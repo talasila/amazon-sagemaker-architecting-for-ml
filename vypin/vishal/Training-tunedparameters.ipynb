{
 "cells": [
  {
   "cell_type": "code",
   "execution_count": 44,
   "metadata": {},
   "outputs": [
    {
     "data": {
      "text/plain": [
       "(4453833, 11)"
      ]
     },
     "execution_count": 44,
     "metadata": {},
     "output_type": "execute_result"
    }
   ],
   "source": [
    "import boto3\n",
    "import sagemaker\n",
    "import pandas as pd\n",
    "from sagemaker import get_execution_role\n",
    "from sagemaker.amazon.amazon_estimator import get_image_uri\n",
    "from sagemaker import RandomCutForest\n",
    "\n",
    "bucket = 'anomaly-detection-team-vypin'   # <--- specify a bucket you have access to\n",
    "prefix = 'vishal/sagemaker/rcf-benchmarks'\n",
    "\n",
    "\n",
    "s3_training_data_location='s3://anomaly-detection-team-vypin/vishal/train.csv'\n",
    "cleaned_data=pd.read_csv(s3_training_data_location)\n",
    "cleaned_data.shape"
   ]
  },
  {
   "cell_type": "code",
   "execution_count": 46,
   "metadata": {},
   "outputs": [
    {
     "name": "stderr",
     "output_type": "stream",
     "text": [
      "INFO:sagemaker:Creating training-job with name: vishal-2019-03-07-19-46-08-366\n"
     ]
    },
    {
     "name": "stdout",
     "output_type": "stream",
     "text": [
      "2019-03-07 19:46:08 Starting - Starting the training job...\n",
      "2019-03-07 19:46:09 Starting - Launching requested ML instances......\n",
      "2019-03-07 19:47:17 Starting - Preparing the instances for training.........\n",
      "2019-03-07 19:48:42 Downloading - Downloading input data...\n",
      "2019-03-07 19:49:29 Training - Training image download completed. Training in progress.\n",
      "\u001b[31mDocker entrypoint called with argument(s): train\u001b[0m\n",
      "\u001b[31m[03/07/2019 19:49:32 INFO 140079744386880] Reading default configuration from /opt/amazon/lib/python2.7/site-packages/algorithm/resources/default-conf.json: {u'_ftp_port': 8999, u'num_samples_per_tree': 256, u'_tuning_objective_metric': u'', u'_num_gpus': u'auto', u'_log_level': u'info', u'_kvstore': u'dist_async', u'force_dense': u'true', u'epochs': 1, u'num_trees': 100, u'eval_metrics': [u'accuracy', u'precision_recall_fscore'], u'_num_kv_servers': u'auto', u'mini_batch_size': 1000}\u001b[0m\n",
      "\u001b[31m[03/07/2019 19:49:32 INFO 140079744386880] Reading provided configuration from /opt/ml/input/config/hyperparameters.json: {u'mini_batch_size': u'1000', u'feature_dim': u'11', u'num_samples_per_tree': u'2048', u'num_trees': u'100'}\u001b[0m\n",
      "\u001b[31m[03/07/2019 19:49:32 INFO 140079744386880] Final configuration: {u'_ftp_port': 8999, u'num_samples_per_tree': u'2048', u'_tuning_objective_metric': u'', u'_num_gpus': u'auto', u'_log_level': u'info', u'_kvstore': u'dist_async', u'force_dense': u'true', u'epochs': 1, u'feature_dim': u'11', u'num_trees': u'100', u'eval_metrics': [u'accuracy', u'precision_recall_fscore'], u'_num_kv_servers': u'auto', u'mini_batch_size': u'1000'}\u001b[0m\n",
      "\u001b[31m[03/07/2019 19:49:32 WARNING 140079744386880] Loggers have already been setup.\u001b[0m\n",
      "\u001b[31m[03/07/2019 19:49:32 INFO 140079744386880] Launching parameter server for role scheduler\u001b[0m\n",
      "\u001b[31m[03/07/2019 19:49:32 INFO 140079744386880] {'ECS_CONTAINER_METADATA_URI': 'http://169.254.170.2/v3/c92dbd07-46ec-4c3b-b695-fca6a7a592ce', 'PROTOCOL_BUFFERS_PYTHON_IMPLEMENTATION_VERSION': '2', 'PATH': '/opt/amazon/bin:/usr/local/nvidia/bin:/usr/local/sbin:/usr/local/bin:/usr/sbin:/usr/bin:/sbin:/bin:/opt/amazon/bin:/opt/amazon/bin', 'SAGEMAKER_HTTP_PORT': '8080', 'HOME': '/root', 'PYTHONUNBUFFERED': 'TRUE', 'CANONICAL_ENVROOT': '/opt/amazon', 'LD_LIBRARY_PATH': '/opt/amazon/lib/python2.7/site-packages/cv2/../../../../lib:/usr/local/nvidia/lib64:/opt/amazon/lib', 'MXNET_KVSTORE_BIGARRAY_BOUND': '400000000', 'LANG': 'en_US.utf8', 'DMLC_INTERFACE': 'ethwe', 'SHLVL': '1', 'AWS_REGION': 'us-east-1', 'NVIDIA_VISIBLE_DEVICES': 'all', 'TRAINING_JOB_NAME': 'vishal-2019-03-07-19-46-08-366', 'PROTOCOL_BUFFERS_PYTHON_IMPLEMENTATION': 'cpp', 'ENVROOT': '/opt/amazon', 'SAGEMAKER_DATA_PATH': '/opt/ml', 'NVIDIA_DRIVER_CAPABILITIES': 'compute,utility', 'NVIDIA_REQUIRE_CUDA': 'cuda>=9.0', 'OMP_NUM_THREADS': '2', 'HOSTNAME': 'aws', 'AWS_CONTAINER_CREDENTIALS_RELATIVE_URI': '/v2/credentials/39a914cb-cdca-4d40-83a0-e3d2cce0d9ce', 'PWD': '/', 'AWS_EXECUTION_ENV': 'AWS_ECS_EC2'}\u001b[0m\n",
      "\u001b[31m[03/07/2019 19:49:32 INFO 140079744386880] envs={'ECS_CONTAINER_METADATA_URI': 'http://169.254.170.2/v3/c92dbd07-46ec-4c3b-b695-fca6a7a592ce', 'PROTOCOL_BUFFERS_PYTHON_IMPLEMENTATION_VERSION': '2', 'DMLC_NUM_WORKER': '1', 'DMLC_PS_ROOT_PORT': '9000', 'PATH': '/opt/amazon/bin:/usr/local/nvidia/bin:/usr/local/sbin:/usr/local/bin:/usr/sbin:/usr/bin:/sbin:/bin:/opt/amazon/bin:/opt/amazon/bin', 'SAGEMAKER_HTTP_PORT': '8080', 'HOME': '/root', 'PYTHONUNBUFFERED': 'TRUE', 'CANONICAL_ENVROOT': '/opt/amazon', 'LD_LIBRARY_PATH': '/opt/amazon/lib/python2.7/site-packages/cv2/../../../../lib:/usr/local/nvidia/lib64:/opt/amazon/lib', 'MXNET_KVSTORE_BIGARRAY_BOUND': '400000000', 'LANG': 'en_US.utf8', 'DMLC_INTERFACE': 'ethwe', 'SHLVL': '1', 'DMLC_PS_ROOT_URI': '10.32.0.5', 'AWS_REGION': 'us-east-1', 'NVIDIA_VISIBLE_DEVICES': 'all', 'TRAINING_JOB_NAME': 'vishal-2019-03-07-19-46-08-366', 'PROTOCOL_BUFFERS_PYTHON_IMPLEMENTATION': 'cpp', 'ENVROOT': '/opt/amazon', 'SAGEMAKER_DATA_PATH': '/opt/ml', 'NVIDIA_DRIVER_CAPABILITIES': 'compute,utility', 'NVIDIA_REQUIRE_CUDA': 'cuda>=9.0', 'OMP_NUM_THREADS': '2', 'HOSTNAME': 'aws', 'AWS_CONTAINER_CREDENTIALS_RELATIVE_URI': '/v2/credentials/39a914cb-cdca-4d40-83a0-e3d2cce0d9ce', 'DMLC_ROLE': 'scheduler', 'PWD': '/', 'DMLC_NUM_SERVER': '1', 'AWS_EXECUTION_ENV': 'AWS_ECS_EC2'}\u001b[0m\n",
      "\u001b[31m[03/07/2019 19:49:32 INFO 140079744386880] Launching parameter server for role server\u001b[0m\n",
      "\u001b[31m[03/07/2019 19:49:32 INFO 140079744386880] {'ECS_CONTAINER_METADATA_URI': 'http://169.254.170.2/v3/c92dbd07-46ec-4c3b-b695-fca6a7a592ce', 'PROTOCOL_BUFFERS_PYTHON_IMPLEMENTATION_VERSION': '2', 'PATH': '/opt/amazon/bin:/usr/local/nvidia/bin:/usr/local/sbin:/usr/local/bin:/usr/sbin:/usr/bin:/sbin:/bin:/opt/amazon/bin:/opt/amazon/bin', 'SAGEMAKER_HTTP_PORT': '8080', 'HOME': '/root', 'PYTHONUNBUFFERED': 'TRUE', 'CANONICAL_ENVROOT': '/opt/amazon', 'LD_LIBRARY_PATH': '/opt/amazon/lib/python2.7/site-packages/cv2/../../../../lib:/usr/local/nvidia/lib64:/opt/amazon/lib', 'MXNET_KVSTORE_BIGARRAY_BOUND': '400000000', 'LANG': 'en_US.utf8', 'DMLC_INTERFACE': 'ethwe', 'SHLVL': '1', 'AWS_REGION': 'us-east-1', 'NVIDIA_VISIBLE_DEVICES': 'all', 'TRAINING_JOB_NAME': 'vishal-2019-03-07-19-46-08-366', 'PROTOCOL_BUFFERS_PYTHON_IMPLEMENTATION': 'cpp', 'ENVROOT': '/opt/amazon', 'SAGEMAKER_DATA_PATH': '/opt/ml', 'NVIDIA_DRIVER_CAPABILITIES': 'compute,utility', 'NVIDIA_REQUIRE_CUDA': 'cuda>=9.0', 'OMP_NUM_THREADS': '2', 'HOSTNAME': 'aws', 'AWS_CONTAINER_CREDENTIALS_RELATIVE_URI': '/v2/credentials/39a914cb-cdca-4d40-83a0-e3d2cce0d9ce', 'PWD': '/', 'AWS_EXECUTION_ENV': 'AWS_ECS_EC2'}\u001b[0m\n",
      "\u001b[31m[03/07/2019 19:49:32 INFO 140079744386880] envs={'ECS_CONTAINER_METADATA_URI': 'http://169.254.170.2/v3/c92dbd07-46ec-4c3b-b695-fca6a7a592ce', 'PROTOCOL_BUFFERS_PYTHON_IMPLEMENTATION_VERSION': '2', 'DMLC_NUM_WORKER': '1', 'DMLC_PS_ROOT_PORT': '9000', 'PATH': '/opt/amazon/bin:/usr/local/nvidia/bin:/usr/local/sbin:/usr/local/bin:/usr/sbin:/usr/bin:/sbin:/bin:/opt/amazon/bin:/opt/amazon/bin', 'SAGEMAKER_HTTP_PORT': '8080', 'HOME': '/root', 'PYTHONUNBUFFERED': 'TRUE', 'CANONICAL_ENVROOT': '/opt/amazon', 'LD_LIBRARY_PATH': '/opt/amazon/lib/python2.7/site-packages/cv2/../../../../lib:/usr/local/nvidia/lib64:/opt/amazon/lib', 'MXNET_KVSTORE_BIGARRAY_BOUND': '400000000', 'LANG': 'en_US.utf8', 'DMLC_INTERFACE': 'ethwe', 'SHLVL': '1', 'DMLC_PS_ROOT_URI': '10.32.0.5', 'AWS_REGION': 'us-east-1', 'NVIDIA_VISIBLE_DEVICES': 'all', 'TRAINING_JOB_NAME': 'vishal-2019-03-07-19-46-08-366', 'PROTOCOL_BUFFERS_PYTHON_IMPLEMENTATION': 'cpp', 'ENVROOT': '/opt/amazon', 'SAGEMAKER_DATA_PATH': '/opt/ml', 'NVIDIA_DRIVER_CAPABILITIES': 'compute,utility', 'NVIDIA_REQUIRE_CUDA': 'cuda>=9.0', 'OMP_NUM_THREADS': '2', 'HOSTNAME': 'aws', 'AWS_CONTAINER_CREDENTIALS_RELATIVE_URI': '/v2/credentials/39a914cb-cdca-4d40-83a0-e3d2cce0d9ce', 'DMLC_ROLE': 'server', 'PWD': '/', 'DMLC_NUM_SERVER': '1', 'AWS_EXECUTION_ENV': 'AWS_ECS_EC2'}\u001b[0m\n",
      "\u001b[31m[03/07/2019 19:49:32 INFO 140079744386880] Environment: {'ECS_CONTAINER_METADATA_URI': 'http://169.254.170.2/v3/c92dbd07-46ec-4c3b-b695-fca6a7a592ce', 'PROTOCOL_BUFFERS_PYTHON_IMPLEMENTATION_VERSION': '2', 'DMLC_PS_ROOT_PORT': '9000', 'DMLC_NUM_WORKER': '1', 'SAGEMAKER_HTTP_PORT': '8080', 'PATH': '/opt/amazon/bin:/usr/local/nvidia/bin:/usr/local/sbin:/usr/local/bin:/usr/sbin:/usr/bin:/sbin:/bin:/opt/amazon/bin:/opt/amazon/bin', 'PYTHONUNBUFFERED': 'TRUE', 'CANONICAL_ENVROOT': '/opt/amazon', 'LD_LIBRARY_PATH': '/opt/amazon/lib/python2.7/site-packages/cv2/../../../../lib:/usr/local/nvidia/lib64:/opt/amazon/lib', 'MXNET_KVSTORE_BIGARRAY_BOUND': '400000000', 'LANG': 'en_US.utf8', 'DMLC_INTERFACE': 'ethwe', 'SHLVL': '1', 'DMLC_PS_ROOT_URI': '10.32.0.5', 'AWS_REGION': 'us-east-1', 'NVIDIA_VISIBLE_DEVICES': 'all', 'TRAINING_JOB_NAME': 'vishal-2019-03-07-19-46-08-366', 'HOME': '/root', 'PROTOCOL_BUFFERS_PYTHON_IMPLEMENTATION': 'cpp', 'ENVROOT': '/opt/amazon', 'SAGEMAKER_DATA_PATH': '/opt/ml', 'NVIDIA_DRIVER_CAPABILITIES': 'compute,utility', 'NVIDIA_REQUIRE_CUDA': 'cuda>=9.0', 'OMP_NUM_THREADS': '2', 'HOSTNAME': 'aws', 'AWS_CONTAINER_CREDENTIALS_RELATIVE_URI': '/v2/credentials/39a914cb-cdca-4d40-83a0-e3d2cce0d9ce', 'DMLC_ROLE': 'worker', 'PWD': '/', 'DMLC_NUM_SERVER': '1', 'AWS_EXECUTION_ENV': 'AWS_ECS_EC2'}\u001b[0m\n",
      "\u001b[31mProcess 36 is a shell:scheduler.\u001b[0m\n",
      "\u001b[31mProcess 37 is a shell:server.\u001b[0m\n",
      "\u001b[31mProcess 1 is a worker.\u001b[0m\n",
      "\u001b[31m[03/07/2019 19:49:32 INFO 140079744386880] Using default worker.\u001b[0m\n",
      "\u001b[31m[03/07/2019 19:49:32 INFO 140079744386880] Loaded iterator creator application/x-recordio-protobuf for content type ('application/x-recordio-protobuf', '1.0')\u001b[0m\n",
      "\u001b[31m[03/07/2019 19:49:32 INFO 140079744386880] Verifying hyperparamemters...\u001b[0m\n",
      "\u001b[31m[03/07/2019 19:49:32 INFO 140079744386880] Hyperparameters are correct.\u001b[0m\n",
      "\u001b[31m[03/07/2019 19:49:32 INFO 140079744386880] Validating that feature_dim agrees with dimensions in training data...\u001b[0m\n",
      "\u001b[31m[03/07/2019 19:49:32 INFO 140079744386880] feature_dim is correct.\u001b[0m\n",
      "\u001b[31m[03/07/2019 19:49:32 INFO 140079744386880] Validating memory limits...\u001b[0m\n",
      "\u001b[31m[03/07/2019 19:49:32 INFO 140079744386880] Available memory in bytes: 15162974208\u001b[0m\n",
      "\u001b[31m[03/07/2019 19:49:32 INFO 140079744386880] Estimated sample size in bytes: 36044800\u001b[0m\n",
      "\u001b[31m[03/07/2019 19:49:32 INFO 140079744386880] Estimated memory needed to build the forest in bytes: 90112000\u001b[0m\n",
      "\u001b[31m[03/07/2019 19:49:32 INFO 140079744386880] Memory limits validated.\u001b[0m\n",
      "\u001b[31m[03/07/2019 19:49:32 INFO 140079744386880] Starting cluster sharing facilities...\u001b[0m\n",
      "\u001b[31m[03/07/2019 19:49:32 INFO 140079744386880] Create Store: dist_async\u001b[0m\n",
      "\u001b[31m[I 19-03-07 19:49:32] >>> starting FTP server on 0.0.0.0:8999, pid=1 <<<\u001b[0m\n",
      "\u001b[31m[03/07/2019 19:49:32 INFO 140078009546496] >>> starting FTP server on 0.0.0.0:8999, pid=1 <<<\u001b[0m\n",
      "\u001b[31m[I 19-03-07 19:49:32] poller: <class 'pyftpdlib.ioloop.Epoll'>\u001b[0m\n",
      "\u001b[31m[03/07/2019 19:49:32 INFO 140078009546496] poller: <class 'pyftpdlib.ioloop.Epoll'>\u001b[0m\n",
      "\u001b[31m[I 19-03-07 19:49:32] masquerade (NAT) address: None\u001b[0m\n",
      "\u001b[31m[03/07/2019 19:49:32 INFO 140078009546496] masquerade (NAT) address: None\u001b[0m\n",
      "\u001b[31m[I 19-03-07 19:49:32] passive ports: None\u001b[0m\n",
      "\u001b[31m[03/07/2019 19:49:32 INFO 140078009546496] passive ports: None\u001b[0m\n",
      "\u001b[31m[I 19-03-07 19:49:32] use sendfile(2): False\u001b[0m\n",
      "\u001b[31m[03/07/2019 19:49:32 INFO 140078009546496] use sendfile(2): False\u001b[0m\n",
      "\u001b[31m[03/07/2019 19:49:33 INFO 140079744386880] Cluster sharing facilities started.\u001b[0m\n",
      "\u001b[31m[03/07/2019 19:49:33 INFO 140079744386880] Verifying all workers are accessible...\u001b[0m\n",
      "\u001b[31m[03/07/2019 19:49:33 INFO 140079744386880] All workers accessible.\u001b[0m\n",
      "\u001b[31m[03/07/2019 19:49:33 INFO 140079744386880] Initializing Sampler...\u001b[0m\n",
      "\u001b[31m[03/07/2019 19:49:33 INFO 140079744386880] Sampler correctly initialized.\u001b[0m\n",
      "\u001b[31m#metrics {\"Metrics\": {\"initialize.time\": {\"count\": 1, \"max\": 863.1241321563721, \"sum\": 863.1241321563721, \"min\": 863.1241321563721}}, \"EndTime\": 1551988173.47346, \"Dimensions\": {\"Host\": \"algo-1\", \"Operation\": \"training\", \"Algorithm\": \"RandomCutForest\"}, \"StartTime\": 1551988172.592433}\n",
      "\u001b[0m\n",
      "\u001b[31m#metrics {\"Metrics\": {\"Max Batches Seen Between Resets\": {\"count\": 1, \"max\": 0, \"sum\": 0.0, \"min\": 0}, \"Number of Batches Since Last Reset\": {\"count\": 1, \"max\": 0, \"sum\": 0.0, \"min\": 0}, \"Number of Records Since Last Reset\": {\"count\": 1, \"max\": 0, \"sum\": 0.0, \"min\": 0}, \"Total Batches Seen\": {\"count\": 1, \"max\": 0, \"sum\": 0.0, \"min\": 0}, \"Total Records Seen\": {\"count\": 1, \"max\": 0, \"sum\": 0.0, \"min\": 0}, \"Max Records Seen Between Resets\": {\"count\": 1, \"max\": 0, \"sum\": 0.0, \"min\": 0}, \"Reset Count\": {\"count\": 1, \"max\": 0, \"sum\": 0.0, \"min\": 0}}, \"EndTime\": 1551988173.473694, \"Dimensions\": {\"Host\": \"algo-1\", \"Meta\": \"init_train_data_iter\", \"Operation\": \"training\", \"Algorithm\": \"RandomCutForest\"}, \"StartTime\": 1551988173.473641}\n",
      "\u001b[0m\n",
      "\u001b[31m[2019-03-07 19:49:33.475] [tensorio] [info] epoch_stats={\"data_pipeline\": \"/opt/ml/input/data/train\", \"epoch\": 0, \"duration\": 882, \"num_examples\": 1, \"num_bytes\": 112000}\u001b[0m\n",
      "\u001b[31m[03/07/2019 19:49:33 INFO 140079744386880] Sampling training data...\u001b[0m\n"
     ]
    },
    {
     "name": "stdout",
     "output_type": "stream",
     "text": [
      "\u001b[31m[2019-03-07 19:49:42.113] [tensorio] [info] epoch_stats={\"data_pipeline\": \"/opt/ml/input/data/train\", \"epoch\": 1, \"duration\": 8638, \"num_examples\": 4454, \"num_bytes\": 498829296}\u001b[0m\n",
      "\u001b[31m[03/07/2019 19:49:42 INFO 140079744386880] Sampling training data completed.\u001b[0m\n",
      "\u001b[31m#metrics {\"Metrics\": {\"epochs\": {\"count\": 1, \"max\": 1, \"sum\": 1.0, \"min\": 1}, \"update.time\": {\"count\": 1, \"max\": 8731.54091835022, \"sum\": 8731.54091835022, \"min\": 8731.54091835022}}, \"EndTime\": 1551988182.206817, \"Dimensions\": {\"Host\": \"algo-1\", \"Operation\": \"training\", \"Algorithm\": \"RandomCutForest\"}, \"StartTime\": 1551988173.473575}\n",
      "\u001b[0m\n",
      "\u001b[31m[03/07/2019 19:49:42 INFO 140079744386880] Early stop condition met. Stopping training.\u001b[0m\n",
      "\u001b[31m[03/07/2019 19:49:42 INFO 140079744386880] #progress_metric: host=algo-1, completed 100 % epochs\u001b[0m\n",
      "\u001b[31m#metrics {\"Metrics\": {\"Max Batches Seen Between Resets\": {\"count\": 1, \"max\": 4454, \"sum\": 4454.0, \"min\": 4454}, \"Number of Batches Since Last Reset\": {\"count\": 1, \"max\": 4454, \"sum\": 4454.0, \"min\": 4454}, \"Number of Records Since Last Reset\": {\"count\": 1, \"max\": 4453833, \"sum\": 4453833.0, \"min\": 4453833}, \"Total Batches Seen\": {\"count\": 1, \"max\": 4454, \"sum\": 4454.0, \"min\": 4454}, \"Total Records Seen\": {\"count\": 1, \"max\": 4453833, \"sum\": 4453833.0, \"min\": 4453833}, \"Max Records Seen Between Resets\": {\"count\": 1, \"max\": 4453833, \"sum\": 4453833.0, \"min\": 4453833}, \"Reset Count\": {\"count\": 1, \"max\": 1, \"sum\": 1.0, \"min\": 1}}, \"EndTime\": 1551988182.207198, \"Dimensions\": {\"Host\": \"algo-1\", \"Meta\": \"training_data_iter\", \"Operation\": \"training\", \"Algorithm\": \"RandomCutForest\", \"epoch\": 0}, \"StartTime\": 1551988173.475237}\n",
      "\u001b[0m\n",
      "\u001b[31m[03/07/2019 19:49:42 INFO 140079744386880] #throughput_metric: host=algo-1, train throughput=510052.796245 records/second\u001b[0m\n",
      "\u001b[31m[03/07/2019 19:49:42 INFO 140079744386880] Master node: building Random Cut Forest...\u001b[0m\n",
      "\u001b[31m[03/07/2019 19:49:42 INFO 140079744386880] Gathering samples...\u001b[0m\n",
      "\u001b[31m[03/07/2019 19:49:42 INFO 140079744386880] Samples gathered\u001b[0m\n",
      "\u001b[31m[03/07/2019 19:49:42 INFO 140079744386880] Building Random Cut Forest...\u001b[0m\n",
      "\u001b[31m[03/07/2019 19:49:42 INFO 140079744386880] Random Cut Forest built: \n",
      "\u001b[0m\n",
      "\u001b[31mForestInfo{num_trees: 100, num_samples_in_forest: 204800, num_samples_per_tree: 2048, sample_dim: 11, shingle_size: 1, trees_num_nodes: [4055, 4043, 4047, 4041, 4035, 4047, 4041, 4031, 4057, 4045, 4041, 4047, 4063, 4037, 4047, 4039, 4049, 4061, 4055, 4041, 4035, 4041, 4065, 4055, 4063, 4049, 4053, 4055, 4029, 4029, 4045, 4043, 4061, 4029, 4059, 4045, 4033, 4065, 4047, 4063, 4061, 4049, 4053, 4041, 4045, 4061, 4055, 4057, 4041, 4047, 4063, 4045, 4025, 4069, 4049, 4059, 4051, 4037, 4053, 4047, 4055, 4063, 4045, 4053, 4053, 4047, 4049, 4039, 4049, 4039, 4035, 4045, 4045, 4033, 4033, 4049, 4043, 4055, 4053, 4045, 4027, 4045, 4033, 4053, 4045, 4041, 4035, 4041, 4051, 4041, 4063, 4059, 4027, 4043, 4043, 4061, 4051, 4063, 4059, 4053, ], trees_depth: [43, 53, 42, 49, 46, 44, 54, 48, 48, 51, 46, 45, 53, 43, 38, 43, 46, 42, 47, 46, 48, 48, 45, 40, 42, 46, 38, 46, 46, 58, 42, 48, 44, 46, 61, 43, 46, 43, 51, 46, 59, 43, 40, 53, 42, 54, 38, 44, 43, 42, 48, 46, 54, 48, 44, 41, 50, 47, 57, 47, 50, 38, 53, 49, 45, 44, 44, 52, 35, 48, 44, 56, 46, 49, 50, 40, 46, 44, 50, 44, 45, 37, 42, 47, 55, 43, 49, 40, 50, 49, 47, 47, 45, 53, 45, 52, 45, 45, 45, 44, ], max_num_nodes: 4069, min_num_nodes: 4025, avg_num_nodes: 4047, max_tree_depth: 61, min_tree_depth: 35, avg_tree_depth: 46, mem_size: 106856432}\u001b[0m\n",
      "\u001b[31m#metrics {\"Metrics\": {\"finalize.time\": {\"count\": 1, \"max\": 645.8308696746826, \"sum\": 645.8308696746826, \"min\": 645.8308696746826}, \"model.bytes\": {\"count\": 1, \"max\": 106856432, \"sum\": 106856432.0, \"min\": 106856432}, \"fit_model.time\": {\"count\": 1, \"max\": 339.13516998291016, \"sum\": 339.13516998291016, \"min\": 339.13516998291016}}, \"EndTime\": 1551988182.853341, \"Dimensions\": {\"Host\": \"algo-1\", \"Operation\": \"training\", \"Algorithm\": \"RandomCutForest\"}, \"StartTime\": 1551988182.206913}\n",
      "\u001b[0m\n",
      "\u001b[31m[03/07/2019 19:49:43 INFO 140079744386880] Master node: Serializing the RandomCutForest model\u001b[0m\n",
      "\u001b[31m#metrics {\"Metrics\": {\"serialize_model.time\": {\"count\": 1, \"max\": 1121.6988563537598, \"sum\": 1121.6988563537598, \"min\": 1121.6988563537598}}, \"EndTime\": 1551988183.975211, \"Dimensions\": {\"Host\": \"algo-1\", \"Operation\": \"training\", \"Algorithm\": \"RandomCutForest\"}, \"StartTime\": 1551988182.853452}\n",
      "\u001b[0m\n",
      "\u001b[31m[03/07/2019 19:49:43 INFO 140079744386880] Test data is not provided.\u001b[0m\n",
      "\u001b[31m[03/07/2019 19:49:44 INFO 140078009546496] >>> shutting down FTP server (0 active fds) <<<\u001b[0m\n",
      "\u001b[31m[I 19-03-07 19:49:44] >>> shutting down FTP server (0 active fds) <<<\u001b[0m\n",
      "\u001b[31m#metrics {\"Metrics\": {\"totaltime\": {\"count\": 1, \"max\": 11838.114023208618, \"sum\": 11838.114023208618, \"min\": 11838.114023208618}, \"setuptime\": {\"count\": 1, \"max\": 184.48901176452637, \"sum\": 184.48901176452637, \"min\": 184.48901176452637}}, \"EndTime\": 1551988184.18671, \"Dimensions\": {\"Host\": \"algo-1\", \"Operation\": \"training\", \"Algorithm\": \"RandomCutForest\"}, \"StartTime\": 1551988183.975294}\n",
      "\u001b[0m\n",
      "\n",
      "2019-03-07 19:49:58 Uploading - Uploading generated training model\n",
      "2019-03-07 19:49:58 Completed - Training job completed\n",
      "Billable seconds: 76\n"
     ]
    }
   ],
   "source": [
    "session=sagemaker.Session()\n",
    "execution_role = get_execution_role()\n",
    "\n",
    "train_data = sagemaker.s3_input(\n",
    "       s3_data=s3_training_data_location,\n",
    "       content_type='text/csv;label_size=0',\n",
    "       distribution='ShardedByS3Key')\n",
    "\n",
    "# specify general training job information\n",
    "rcf = RandomCutForest(role=execution_role,\n",
    "                      train_instance_count=1,\n",
    "                      train_instance_type='ml.m4.xlarge',\n",
    "                      base_job_name='vishal',\n",
    "                      data_location='s3://{}/{}/'.format(bucket, prefix),\n",
    "                      output_path='s3://{}/{}/output'.format(bucket, prefix),\n",
    "                      num_samples_per_tree=2048,\n",
    "                      num_trees=100)\n",
    "\n",
    "rcf.fit(rcf.record_set(cleaned_data.as_matrix()))\n",
    "#rcf.fit({'train': train_data})"
   ]
  },
  {
   "cell_type": "code",
   "execution_count": 47,
   "metadata": {},
   "outputs": [
    {
     "name": "stderr",
     "output_type": "stream",
     "text": [
      "INFO:sagemaker:Creating model with name: vishal-2019-03-07-19-46-08-366\n",
      "INFO:sagemaker:Creating transform job with name: vishal-2019-03-07-19-56-14-204\n"
     ]
    },
    {
     "name": "stdout",
     "output_type": "stream",
     "text": [
      "..................................................................................!\n"
     ]
    }
   ],
   "source": [
    "s3_validation_data_location='s3://anomaly-detection-team-vypin/vishal/validation.csv'\n",
    "s3_validation_results_location='s3://anomaly-detection-team-vypin/vishal/batchtransofrm_results_tuned'\n",
    "# Initialize the transformer object\n",
    "transformer = rcf.transformer(\n",
    "   instance_type='ml.c4.xlarge',\n",
    "   instance_count=1,\n",
    "   strategy='MultiRecord',\n",
    "   assemble_with='Line',\n",
    "   output_path=s3_validation_results_location\n",
    "   )\n",
    "# Start a transform job\n",
    "transformer.transform(s3_validation_data_location, content_type='text/csv', split_type='Line')\n",
    "# Then wait until the transform job has completed\n",
    "transformer.wait()\n",
    "\n"
   ]
  },
  {
   "cell_type": "code",
   "execution_count": 48,
   "metadata": {},
   "outputs": [],
   "source": [
    "import json\n",
    "\n",
    "s3 = boto3.resource('s3')\n",
    "s3.Bucket('anomaly-detection-team-vypin').download_file('vishal/batchtransofrm_results_tuned/validation.csv.out', 'validation_tuned.csv.out')\n",
    "\n",
    "#results=pd.read_csv('s3://anomaly-detection-team-vypin/vishal/batchtransofrm_results/validation.csv.out')"
   ]
  },
  {
   "cell_type": "code",
   "execution_count": 49,
   "metadata": {},
   "outputs": [],
   "source": [
    "import sys\n",
    "fo = open(\"validation_tuned.csv.out\", \"r\")\n",
    "results=fo.readlines()"
   ]
  },
  {
   "cell_type": "code",
   "execution_count": 50,
   "metadata": {},
   "outputs": [],
   "source": [
    "\n",
    "scores = [json.loads(datum)['score'] for datum in results]\n"
   ]
  },
  {
   "cell_type": "code",
   "execution_count": 51,
   "metadata": {},
   "outputs": [],
   "source": [
    "validation_data=pd.read_csv('s3://anomaly-detection-team-vypin/vishal/validation_full_data.csv')"
   ]
  },
  {
   "cell_type": "code",
   "execution_count": 52,
   "metadata": {},
   "outputs": [
    {
     "data": {
      "text/plain": [
       "(1272524, 13)"
      ]
     },
     "execution_count": 52,
     "metadata": {},
     "output_type": "execute_result"
    }
   ],
   "source": [
    "#validation_data.head()\n",
    "validation_data.shape"
   ]
  },
  {
   "cell_type": "code",
   "execution_count": 53,
   "metadata": {},
   "outputs": [],
   "source": [
    "validation_data['score']=scores\n"
   ]
  },
  {
   "cell_type": "code",
   "execution_count": 54,
   "metadata": {},
   "outputs": [
    {
     "data": {
      "text/html": [
       "<div>\n",
       "<style scoped>\n",
       "    .dataframe tbody tr th:only-of-type {\n",
       "        vertical-align: middle;\n",
       "    }\n",
       "\n",
       "    .dataframe tbody tr th {\n",
       "        vertical-align: top;\n",
       "    }\n",
       "\n",
       "    .dataframe thead th {\n",
       "        text-align: right;\n",
       "    }\n",
       "</style>\n",
       "<table border=\"1\" class=\"dataframe\">\n",
       "  <thead>\n",
       "    <tr style=\"text-align: right;\">\n",
       "      <th></th>\n",
       "      <th>step</th>\n",
       "      <th>amount</th>\n",
       "      <th>oldbalanceOrg</th>\n",
       "      <th>newbalanceOrig</th>\n",
       "      <th>oldbalanceDest</th>\n",
       "      <th>newbalanceDest</th>\n",
       "      <th>isFraud</th>\n",
       "      <th>isFlaggedFraud</th>\n",
       "      <th>type_CASH_IN</th>\n",
       "      <th>type_CASH_OUT</th>\n",
       "      <th>type_DEBIT</th>\n",
       "      <th>type_PAYMENT</th>\n",
       "      <th>type_TRANSFER</th>\n",
       "      <th>score</th>\n",
       "    </tr>\n",
       "  </thead>\n",
       "  <tbody>\n",
       "    <tr>\n",
       "      <th>0</th>\n",
       "      <td>528</td>\n",
       "      <td>7584.30</td>\n",
       "      <td>60102.00</td>\n",
       "      <td>52517.70</td>\n",
       "      <td>0.0</td>\n",
       "      <td>0.00</td>\n",
       "      <td>0</td>\n",
       "      <td>0</td>\n",
       "      <td>0</td>\n",
       "      <td>0</td>\n",
       "      <td>0</td>\n",
       "      <td>1</td>\n",
       "      <td>0</td>\n",
       "      <td>0.367064</td>\n",
       "    </tr>\n",
       "    <tr>\n",
       "      <th>1</th>\n",
       "      <td>136</td>\n",
       "      <td>17475.37</td>\n",
       "      <td>399528.82</td>\n",
       "      <td>382053.45</td>\n",
       "      <td>0.0</td>\n",
       "      <td>0.00</td>\n",
       "      <td>0</td>\n",
       "      <td>0</td>\n",
       "      <td>0</td>\n",
       "      <td>0</td>\n",
       "      <td>0</td>\n",
       "      <td>1</td>\n",
       "      <td>0</td>\n",
       "      <td>0.473373</td>\n",
       "    </tr>\n",
       "    <tr>\n",
       "      <th>2</th>\n",
       "      <td>262</td>\n",
       "      <td>5603.06</td>\n",
       "      <td>13479.00</td>\n",
       "      <td>7875.94</td>\n",
       "      <td>0.0</td>\n",
       "      <td>0.00</td>\n",
       "      <td>0</td>\n",
       "      <td>0</td>\n",
       "      <td>0</td>\n",
       "      <td>0</td>\n",
       "      <td>0</td>\n",
       "      <td>1</td>\n",
       "      <td>0</td>\n",
       "      <td>0.343819</td>\n",
       "    </tr>\n",
       "    <tr>\n",
       "      <th>3</th>\n",
       "      <td>231</td>\n",
       "      <td>199365.72</td>\n",
       "      <td>41193.00</td>\n",
       "      <td>0.00</td>\n",
       "      <td>0.0</td>\n",
       "      <td>199365.72</td>\n",
       "      <td>0</td>\n",
       "      <td>0</td>\n",
       "      <td>0</td>\n",
       "      <td>1</td>\n",
       "      <td>0</td>\n",
       "      <td>0</td>\n",
       "      <td>0</td>\n",
       "      <td>0.414551</td>\n",
       "    </tr>\n",
       "    <tr>\n",
       "      <th>4</th>\n",
       "      <td>212</td>\n",
       "      <td>28174.70</td>\n",
       "      <td>0.00</td>\n",
       "      <td>0.00</td>\n",
       "      <td>0.0</td>\n",
       "      <td>0.00</td>\n",
       "      <td>0</td>\n",
       "      <td>0</td>\n",
       "      <td>0</td>\n",
       "      <td>0</td>\n",
       "      <td>0</td>\n",
       "      <td>1</td>\n",
       "      <td>0</td>\n",
       "      <td>0.315176</td>\n",
       "    </tr>\n",
       "  </tbody>\n",
       "</table>\n",
       "</div>"
      ],
      "text/plain": [
       "   step     amount  oldbalanceOrg  newbalanceOrig  oldbalanceDest  \\\n",
       "0   528    7584.30       60102.00        52517.70             0.0   \n",
       "1   136   17475.37      399528.82       382053.45             0.0   \n",
       "2   262    5603.06       13479.00         7875.94             0.0   \n",
       "3   231  199365.72       41193.00            0.00             0.0   \n",
       "4   212   28174.70           0.00            0.00             0.0   \n",
       "\n",
       "   newbalanceDest  isFraud  isFlaggedFraud  type_CASH_IN  type_CASH_OUT  \\\n",
       "0            0.00        0               0             0              0   \n",
       "1            0.00        0               0             0              0   \n",
       "2            0.00        0               0             0              0   \n",
       "3       199365.72        0               0             0              1   \n",
       "4            0.00        0               0             0              0   \n",
       "\n",
       "   type_DEBIT  type_PAYMENT  type_TRANSFER     score  \n",
       "0           0             1              0  0.367064  \n",
       "1           0             1              0  0.473373  \n",
       "2           0             1              0  0.343819  \n",
       "3           0             0              0  0.414551  \n",
       "4           0             1              0  0.315176  "
      ]
     },
     "execution_count": 54,
     "metadata": {},
     "output_type": "execute_result"
    }
   ],
   "source": [
    "validation_data.head()"
   ]
  },
  {
   "cell_type": "code",
   "execution_count": 55,
   "metadata": {},
   "outputs": [],
   "source": [
    "score_vs_fraud=validation_data[['isFraud','score']]"
   ]
  },
  {
   "cell_type": "code",
   "execution_count": 56,
   "metadata": {},
   "outputs": [
    {
     "data": {
      "text/html": [
       "<div>\n",
       "<style scoped>\n",
       "    .dataframe tbody tr th:only-of-type {\n",
       "        vertical-align: middle;\n",
       "    }\n",
       "\n",
       "    .dataframe tbody tr th {\n",
       "        vertical-align: top;\n",
       "    }\n",
       "\n",
       "    .dataframe thead th {\n",
       "        text-align: right;\n",
       "    }\n",
       "</style>\n",
       "<table border=\"1\" class=\"dataframe\">\n",
       "  <thead>\n",
       "    <tr style=\"text-align: right;\">\n",
       "      <th></th>\n",
       "      <th>isFraud</th>\n",
       "      <th>score</th>\n",
       "    </tr>\n",
       "  </thead>\n",
       "  <tbody>\n",
       "    <tr>\n",
       "      <th>0</th>\n",
       "      <td>0</td>\n",
       "      <td>0.367064</td>\n",
       "    </tr>\n",
       "    <tr>\n",
       "      <th>1</th>\n",
       "      <td>0</td>\n",
       "      <td>0.473373</td>\n",
       "    </tr>\n",
       "    <tr>\n",
       "      <th>2</th>\n",
       "      <td>0</td>\n",
       "      <td>0.343819</td>\n",
       "    </tr>\n",
       "    <tr>\n",
       "      <th>3</th>\n",
       "      <td>0</td>\n",
       "      <td>0.414551</td>\n",
       "    </tr>\n",
       "    <tr>\n",
       "      <th>4</th>\n",
       "      <td>0</td>\n",
       "      <td>0.315176</td>\n",
       "    </tr>\n",
       "  </tbody>\n",
       "</table>\n",
       "</div>"
      ],
      "text/plain": [
       "   isFraud     score\n",
       "0        0  0.367064\n",
       "1        0  0.473373\n",
       "2        0  0.343819\n",
       "3        0  0.414551\n",
       "4        0  0.315176"
      ]
     },
     "execution_count": 56,
     "metadata": {},
     "output_type": "execute_result"
    }
   ],
   "source": [
    "score_vs_fraud.head()"
   ]
  },
  {
   "cell_type": "code",
   "execution_count": 57,
   "metadata": {},
   "outputs": [
    {
     "data": {
      "text/plain": [
       "<matplotlib.axes._subplots.AxesSubplot at 0x7fc3ab63b358>"
      ]
     },
     "execution_count": 57,
     "metadata": {},
     "output_type": "execute_result"
    },
    {
     "data": {
      "image/png": "[encoded data removed]",
      "text/plain": [
       "<Figure size 432x288 with 1 Axes>"
      ]
     },
     "metadata": {},
     "output_type": "display_data"
    }
   ],
   "source": [
    "import matplotlib.pyplot as plt\n",
    "\n",
    "score_vs_fraud.plot(kind='scatter',x='isFraud',y='score')"
   ]
  },
  {
   "cell_type": "code",
   "execution_count": null,
   "metadata": {},
   "outputs": [],
   "source": []
  }
 ],
 "metadata": {
  "kernelspec": {
   "display_name": "conda_python3",
   "language": "python",
   "name": "conda_python3"
  },
  "language_info": {
   "codemirror_mode": {
    "name": "ipython",
    "version": 3
   },
   "file_extension": ".py",
   "mimetype": "text/x-python",
   "name": "python",
   "nbconvert_exporter": "python",
   "pygments_lexer": "ipython3",
   "version": "3.6.5"
  }
 },
 "nbformat": 4,
 "nbformat_minor": 2
}
