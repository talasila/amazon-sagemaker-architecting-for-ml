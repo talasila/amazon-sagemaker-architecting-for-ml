{
 "cells": [
  {
   "cell_type": "code",
   "execution_count": 1,
   "metadata": {},
   "outputs": [
    {
     "data": {
      "text/plain": [
       "(6362620, 15)"
      ]
     },
     "execution_count": 1,
     "metadata": {},
     "output_type": "execute_result"
    }
   ],
   "source": [
    "import boto3\n",
    "import sagemaker\n",
    "import pandas as pd\n",
    "from sagemaker import get_execution_role\n",
    "from sagemaker.amazon.amazon_estimator import get_image_uri\n",
    "from sagemaker import RandomCutForest\n",
    "\n",
    "bucket = 'anomaly-detection-team-vypin'   # <--- specify a bucket you have access to\n",
    "prefix = 'vishal/sagemaker/rcf-benchmarks'\n",
    "\n",
    "\n",
    "s3_training_data_location='s3://anomaly-detection-team-vypin/vishal/data.csv'\n",
    "cleaned_data=pd.read_csv(s3_training_data_location)\n",
    "cleaned_data.shape"
   ]
  },
  {
   "cell_type": "code",
   "execution_count": 2,
   "metadata": {},
   "outputs": [
    {
     "name": "stderr",
     "output_type": "stream",
     "text": [
      "INFO:sagemaker:Creating training-job with name: vishal-2019-03-06-22-10-34-598\n"
     ]
    },
    {
     "name": "stdout",
     "output_type": "stream",
     "text": [
      "2019-03-06 22:10:34 Starting - Starting the training job...\n",
      "2019-03-06 22:10:36 Starting - Launching requested ML instances......\n",
      "2019-03-06 22:11:41 Starting - Preparing the instances for training......\n",
      "2019-03-06 22:13:01 Downloading - Downloading input data......\n",
      "2019-03-06 22:13:53 Training - Training image download completed. Training in progress.\n",
      "\u001b[31mDocker entrypoint called with argument(s): train\u001b[0m\n",
      "\u001b[31m[03/06/2019 22:13:56 INFO 140067999618880] Reading default configuration from /opt/amazon/lib/python2.7/site-packages/algorithm/resources/default-conf.json: {u'_ftp_port': 8999, u'num_samples_per_tree': 256, u'_tuning_objective_metric': u'', u'_num_gpus': u'auto', u'_log_level': u'info', u'_kvstore': u'dist_async', u'force_dense': u'true', u'epochs': 1, u'num_trees': 100, u'eval_metrics': [u'accuracy', u'precision_recall_fscore'], u'_num_kv_servers': u'auto', u'mini_batch_size': 1000}\u001b[0m\n",
      "\u001b[31m[03/06/2019 22:13:56 INFO 140067999618880] Reading provided configuration from /opt/ml/input/config/hyperparameters.json: {u'mini_batch_size': u'1000', u'feature_dim': u'15', u'num_samples_per_tree': u'512', u'num_trees': u'50'}\u001b[0m\n",
      "\u001b[31m[03/06/2019 22:13:56 INFO 140067999618880] Final configuration: {u'_ftp_port': 8999, u'num_samples_per_tree': u'512', u'_tuning_objective_metric': u'', u'_num_gpus': u'auto', u'_log_level': u'info', u'_kvstore': u'dist_async', u'force_dense': u'true', u'epochs': 1, u'feature_dim': u'15', u'num_trees': u'50', u'eval_metrics': [u'accuracy', u'precision_recall_fscore'], u'_num_kv_servers': u'auto', u'mini_batch_size': u'1000'}\u001b[0m\n",
      "\u001b[31m[03/06/2019 22:13:56 WARNING 140067999618880] Loggers have already been setup.\u001b[0m\n",
      "\u001b[31m[03/06/2019 22:13:56 INFO 140067999618880] Launching parameter server for role scheduler\u001b[0m\n",
      "\u001b[31m[03/06/2019 22:13:56 INFO 140067999618880] {'ECS_CONTAINER_METADATA_URI': 'http://169.254.170.2/v3/ccd50ae3-bd01-446e-bfeb-58d7c3e0c172', 'PROTOCOL_BUFFERS_PYTHON_IMPLEMENTATION_VERSION': '2', 'PATH': '/opt/amazon/bin:/usr/local/nvidia/bin:/usr/local/sbin:/usr/local/bin:/usr/sbin:/usr/bin:/sbin:/bin:/opt/amazon/bin:/opt/amazon/bin', 'SAGEMAKER_HTTP_PORT': '8080', 'HOME': '/root', 'PYTHONUNBUFFERED': 'TRUE', 'CANONICAL_ENVROOT': '/opt/amazon', 'LD_LIBRARY_PATH': '/opt/amazon/lib/python2.7/site-packages/cv2/../../../../lib:/usr/local/nvidia/lib64:/opt/amazon/lib', 'MXNET_KVSTORE_BIGARRAY_BOUND': '400000000', 'LANG': 'en_US.utf8', 'DMLC_INTERFACE': 'ethwe', 'SHLVL': '1', 'AWS_REGION': 'us-east-1', 'NVIDIA_VISIBLE_DEVICES': 'all', 'TRAINING_JOB_NAME': 'vishal-2019-03-06-22-10-34-598', 'PROTOCOL_BUFFERS_PYTHON_IMPLEMENTATION': 'cpp', 'ENVROOT': '/opt/amazon', 'SAGEMAKER_DATA_PATH': '/opt/ml', 'NVIDIA_DRIVER_CAPABILITIES': 'compute,utility', 'NVIDIA_REQUIRE_CUDA': 'cuda>=9.0', 'OMP_NUM_THREADS': '2', 'HOSTNAME': 'aws', 'AWS_CONTAINER_CREDENTIALS_RELATIVE_URI': '/v2/credentials/769a60c3-7817-4f60-94d2-22a593a15bab', 'PWD': '/', 'AWS_EXECUTION_ENV': 'AWS_ECS_EC2'}\u001b[0m\n",
      "\u001b[31m[03/06/2019 22:13:56 INFO 140067999618880] envs={'ECS_CONTAINER_METADATA_URI': 'http://169.254.170.2/v3/ccd50ae3-bd01-446e-bfeb-58d7c3e0c172', 'PROTOCOL_BUFFERS_PYTHON_IMPLEMENTATION_VERSION': '2', 'DMLC_NUM_WORKER': '1', 'DMLC_PS_ROOT_PORT': '9000', 'PATH': '/opt/amazon/bin:/usr/local/nvidia/bin:/usr/local/sbin:/usr/local/bin:/usr/sbin:/usr/bin:/sbin:/bin:/opt/amazon/bin:/opt/amazon/bin', 'SAGEMAKER_HTTP_PORT': '8080', 'HOME': '/root', 'PYTHONUNBUFFERED': 'TRUE', 'CANONICAL_ENVROOT': '/opt/amazon', 'LD_LIBRARY_PATH': '/opt/amazon/lib/python2.7/site-packages/cv2/../../../../lib:/usr/local/nvidia/lib64:/opt/amazon/lib', 'MXNET_KVSTORE_BIGARRAY_BOUND': '400000000', 'LANG': 'en_US.utf8', 'DMLC_INTERFACE': 'ethwe', 'SHLVL': '1', 'DMLC_PS_ROOT_URI': '10.32.0.5', 'AWS_REGION': 'us-east-1', 'NVIDIA_VISIBLE_DEVICES': 'all', 'TRAINING_JOB_NAME': 'vishal-2019-03-06-22-10-34-598', 'PROTOCOL_BUFFERS_PYTHON_IMPLEMENTATION': 'cpp', 'ENVROOT': '/opt/amazon', 'SAGEMAKER_DATA_PATH': '/opt/ml', 'NVIDIA_DRIVER_CAPABILITIES': 'compute,utility', 'NVIDIA_REQUIRE_CUDA': 'cuda>=9.0', 'OMP_NUM_THREADS': '2', 'HOSTNAME': 'aws', 'AWS_CONTAINER_CREDENTIALS_RELATIVE_URI': '/v2/credentials/769a60c3-7817-4f60-94d2-22a593a15bab', 'DMLC_ROLE': 'scheduler', 'PWD': '/', 'DMLC_NUM_SERVER': '1', 'AWS_EXECUTION_ENV': 'AWS_ECS_EC2'}\u001b[0m\n",
      "\u001b[31m[03/06/2019 22:13:56 INFO 140067999618880] Launching parameter server for role server\u001b[0m\n",
      "\u001b[31m[03/06/2019 22:13:56 INFO 140067999618880] {'ECS_CONTAINER_METADATA_URI': 'http://169.254.170.2/v3/ccd50ae3-bd01-446e-bfeb-58d7c3e0c172', 'PROTOCOL_BUFFERS_PYTHON_IMPLEMENTATION_VERSION': '2', 'PATH': '/opt/amazon/bin:/usr/local/nvidia/bin:/usr/local/sbin:/usr/local/bin:/usr/sbin:/usr/bin:/sbin:/bin:/opt/amazon/bin:/opt/amazon/bin', 'SAGEMAKER_HTTP_PORT': '8080', 'HOME': '/root', 'PYTHONUNBUFFERED': 'TRUE', 'CANONICAL_ENVROOT': '/opt/amazon', 'LD_LIBRARY_PATH': '/opt/amazon/lib/python2.7/site-packages/cv2/../../../../lib:/usr/local/nvidia/lib64:/opt/amazon/lib', 'MXNET_KVSTORE_BIGARRAY_BOUND': '400000000', 'LANG': 'en_US.utf8', 'DMLC_INTERFACE': 'ethwe', 'SHLVL': '1', 'AWS_REGION': 'us-east-1', 'NVIDIA_VISIBLE_DEVICES': 'all', 'TRAINING_JOB_NAME': 'vishal-2019-03-06-22-10-34-598', 'PROTOCOL_BUFFERS_PYTHON_IMPLEMENTATION': 'cpp', 'ENVROOT': '/opt/amazon', 'SAGEMAKER_DATA_PATH': '/opt/ml', 'NVIDIA_DRIVER_CAPABILITIES': 'compute,utility', 'NVIDIA_REQUIRE_CUDA': 'cuda>=9.0', 'OMP_NUM_THREADS': '2', 'HOSTNAME': 'aws', 'AWS_CONTAINER_CREDENTIALS_RELATIVE_URI': '/v2/credentials/769a60c3-7817-4f60-94d2-22a593a15bab', 'PWD': '/', 'AWS_EXECUTION_ENV': 'AWS_ECS_EC2'}\u001b[0m\n",
      "\u001b[31m[03/06/2019 22:13:56 INFO 140067999618880] envs={'ECS_CONTAINER_METADATA_URI': 'http://169.254.170.2/v3/ccd50ae3-bd01-446e-bfeb-58d7c3e0c172', 'PROTOCOL_BUFFERS_PYTHON_IMPLEMENTATION_VERSION': '2', 'DMLC_NUM_WORKER': '1', 'DMLC_PS_ROOT_PORT': '9000', 'PATH': '/opt/amazon/bin:/usr/local/nvidia/bin:/usr/local/sbin:/usr/local/bin:/usr/sbin:/usr/bin:/sbin:/bin:/opt/amazon/bin:/opt/amazon/bin', 'SAGEMAKER_HTTP_PORT': '8080', 'HOME': '/root', 'PYTHONUNBUFFERED': 'TRUE', 'CANONICAL_ENVROOT': '/opt/amazon', 'LD_LIBRARY_PATH': '/opt/amazon/lib/python2.7/site-packages/cv2/../../../../lib:/usr/local/nvidia/lib64:/opt/amazon/lib', 'MXNET_KVSTORE_BIGARRAY_BOUND': '400000000', 'LANG': 'en_US.utf8', 'DMLC_INTERFACE': 'ethwe', 'SHLVL': '1', 'DMLC_PS_ROOT_URI': '10.32.0.5', 'AWS_REGION': 'us-east-1', 'NVIDIA_VISIBLE_DEVICES': 'all', 'TRAINING_JOB_NAME': 'vishal-2019-03-06-22-10-34-598', 'PROTOCOL_BUFFERS_PYTHON_IMPLEMENTATION': 'cpp', 'ENVROOT': '/opt/amazon', 'SAGEMAKER_DATA_PATH': '/opt/ml', 'NVIDIA_DRIVER_CAPABILITIES': 'compute,utility', 'NVIDIA_REQUIRE_CUDA': 'cuda>=9.0', 'OMP_NUM_THREADS': '2', 'HOSTNAME': 'aws', 'AWS_CONTAINER_CREDENTIALS_RELATIVE_URI': '/v2/credentials/769a60c3-7817-4f60-94d2-22a593a15bab', 'DMLC_ROLE': 'server', 'PWD': '/', 'DMLC_NUM_SERVER': '1', 'AWS_EXECUTION_ENV': 'AWS_ECS_EC2'}\u001b[0m\n",
      "\u001b[31m[03/06/2019 22:13:56 INFO 140067999618880] Environment: {'ECS_CONTAINER_METADATA_URI': 'http://169.254.170.2/v3/ccd50ae3-bd01-446e-bfeb-58d7c3e0c172', 'PROTOCOL_BUFFERS_PYTHON_IMPLEMENTATION_VERSION': '2', 'DMLC_PS_ROOT_PORT': '9000', 'DMLC_NUM_WORKER': '1', 'SAGEMAKER_HTTP_PORT': '8080', 'PATH': '/opt/amazon/bin:/usr/local/nvidia/bin:/usr/local/sbin:/usr/local/bin:/usr/sbin:/usr/bin:/sbin:/bin:/opt/amazon/bin:/opt/amazon/bin', 'PYTHONUNBUFFERED': 'TRUE', 'CANONICAL_ENVROOT': '/opt/amazon', 'LD_LIBRARY_PATH': '/opt/amazon/lib/python2.7/site-packages/cv2/../../../../lib:/usr/local/nvidia/lib64:/opt/amazon/lib', 'MXNET_KVSTORE_BIGARRAY_BOUND': '400000000', 'LANG': 'en_US.utf8', 'DMLC_INTERFACE': 'ethwe', 'SHLVL': '1', 'DMLC_PS_ROOT_URI': '10.32.0.5', 'AWS_REGION': 'us-east-1', 'NVIDIA_VISIBLE_DEVICES': 'all', 'TRAINING_JOB_NAME': 'vishal-2019-03-06-22-10-34-598', 'HOME': '/root', 'PROTOCOL_BUFFERS_PYTHON_IMPLEMENTATION': 'cpp', 'ENVROOT': '/opt/amazon', 'SAGEMAKER_DATA_PATH': '/opt/ml', 'NVIDIA_DRIVER_CAPABILITIES': 'compute,utility', 'NVIDIA_REQUIRE_CUDA': 'cuda>=9.0', 'OMP_NUM_THREADS': '2', 'HOSTNAME': 'aws', 'AWS_CONTAINER_CREDENTIALS_RELATIVE_URI': '/v2/credentials/769a60c3-7817-4f60-94d2-22a593a15bab', 'DMLC_ROLE': 'worker', 'PWD': '/', 'DMLC_NUM_SERVER': '1', 'AWS_EXECUTION_ENV': 'AWS_ECS_EC2'}\u001b[0m\n",
      "\u001b[31mProcess 36 is a shell:scheduler.\u001b[0m\n",
      "\u001b[31mProcess 38 is a shell:server.\u001b[0m\n",
      "\u001b[31mProcess 1 is a worker.\u001b[0m\n",
      "\u001b[31m[03/06/2019 22:13:56 INFO 140067999618880] Using default worker.\u001b[0m\n",
      "\u001b[31m[03/06/2019 22:13:56 INFO 140067999618880] Loaded iterator creator application/x-recordio-protobuf for content type ('application/x-recordio-protobuf', '1.0')\u001b[0m\n",
      "\u001b[31m[2019-03-06 22:13:56.296] [tensorio] [info] batch={\"data_pipeline\": \"/opt/ml/input/data/train\", \"num_examples\": 1000, \"features\": [{\"name\": \"values\", \"shape\": [15], \"storage_type\": \"dense\"}]}\u001b[0m\n",
      "\u001b[31m[03/06/2019 22:13:56 INFO 140067999618880] Verifying hyperparamemters...\u001b[0m\n",
      "\u001b[31m[03/06/2019 22:13:56 INFO 140067999618880] Hyperparameters are correct.\u001b[0m\n",
      "\u001b[31m[03/06/2019 22:13:56 INFO 140067999618880] Validating that feature_dim agrees with dimensions in training data...\u001b[0m\n",
      "\u001b[31m[03/06/2019 22:13:56 INFO 140067999618880] feature_dim is correct.\u001b[0m\n",
      "\u001b[31m[03/06/2019 22:13:56 INFO 140067999618880] Validating memory limits...\u001b[0m\n",
      "\u001b[31m[03/06/2019 22:13:56 INFO 140067999618880] Available memory in bytes: 15196000256\u001b[0m\n",
      "\u001b[31m[03/06/2019 22:13:56 INFO 140067999618880] Estimated sample size in bytes: 6144000\u001b[0m\n",
      "\u001b[31m[03/06/2019 22:13:56 INFO 140067999618880] Estimated memory needed to build the forest in bytes: 15360000\u001b[0m\n",
      "\u001b[31m[03/06/2019 22:13:56 INFO 140067999618880] Memory limits validated.\u001b[0m\n",
      "\u001b[31m[03/06/2019 22:13:56 INFO 140067999618880] Starting cluster sharing facilities...\u001b[0m\n",
      "\u001b[31m[03/06/2019 22:13:56 INFO 140067999618880] Create Store: dist_async\u001b[0m\n",
      "\u001b[31m[I 19-03-06 22:13:56] >>> starting FTP server on 0.0.0.0:8999, pid=1 <<<\u001b[0m\n",
      "\u001b[31m[03/06/2019 22:13:56 INFO 140066265495296] >>> starting FTP server on 0.0.0.0:8999, pid=1 <<<\u001b[0m\n",
      "\u001b[31m[I 19-03-06 22:13:56] poller: <class 'pyftpdlib.ioloop.Epoll'>\u001b[0m\n",
      "\u001b[31m[03/06/2019 22:13:56 INFO 140066265495296] poller: <class 'pyftpdlib.ioloop.Epoll'>\u001b[0m\n",
      "\u001b[31m[I 19-03-06 22:13:56] masquerade (NAT) address: None\u001b[0m\n",
      "\u001b[31m[03/06/2019 22:13:56 INFO 140066265495296] masquerade (NAT) address: None\u001b[0m\n",
      "\u001b[31m[I 19-03-06 22:13:56] passive ports: None\u001b[0m\n",
      "\u001b[31m[03/06/2019 22:13:56 INFO 140066265495296] passive ports: None\u001b[0m\n",
      "\u001b[31m[I 19-03-06 22:13:56] use sendfile(2): False\u001b[0m\n",
      "\u001b[31m[03/06/2019 22:13:56 INFO 140066265495296] use sendfile(2): False\u001b[0m\n",
      "\u001b[31m[03/06/2019 22:13:57 INFO 140067999618880] Cluster sharing facilities started.\u001b[0m\n",
      "\u001b[31m[03/06/2019 22:13:57 INFO 140067999618880] Verifying all workers are accessible...\u001b[0m\n",
      "\u001b[31m[03/06/2019 22:13:57 INFO 140067999618880] All workers accessible.\u001b[0m\n",
      "\u001b[31m[03/06/2019 22:13:57 INFO 140067999618880] Initializing Sampler...\u001b[0m\n",
      "\u001b[31m[03/06/2019 22:13:57 INFO 140067999618880] Sampler correctly initialized.\u001b[0m\n",
      "\u001b[31m#metrics {\"Metrics\": {\"initialize.time\": {\"count\": 1, \"max\": 775.0298976898193, \"sum\": 775.0298976898193, \"min\": 775.0298976898193}}, \"EndTime\": 1551910437.090139, \"Dimensions\": {\"Host\": \"algo-1\", \"Operation\": \"training\", \"Algorithm\": \"RandomCutForest\"}, \"StartTime\": 1551910436.27097}\n",
      "\u001b[0m\n",
      "\u001b[31m#metrics {\"Metrics\": {\"Max Batches Seen Between Resets\": {\"count\": 1, \"max\": 0, \"sum\": 0.0, \"min\": 0}, \"Number of Batches Since Last Reset\": {\"count\": 1, \"max\": 0, \"sum\": 0.0, \"min\": 0}, \"Number of Records Since Last Reset\": {\"count\": 1, \"max\": 0, \"sum\": 0.0, \"min\": 0}, \"Total Batches Seen\": {\"count\": 1, \"max\": 0, \"sum\": 0.0, \"min\": 0}, \"Total Records Seen\": {\"count\": 1, \"max\": 0, \"sum\": 0.0, \"min\": 0}, \"Max Records Seen Between Resets\": {\"count\": 1, \"max\": 0, \"sum\": 0.0, \"min\": 0}, \"Reset Count\": {\"count\": 1, \"max\": 0, \"sum\": 0.0, \"min\": 0}}, \"EndTime\": 1551910437.090392, \"Dimensions\": {\"Host\": \"algo-1\", \"Meta\": \"init_train_data_iter\", \"Operation\": \"training\", \"Algorithm\": \"RandomCutForest\"}, \"StartTime\": 1551910437.090336}\n",
      "\u001b[0m\n",
      "\u001b[31m[2019-03-06 22:13:57.109] [tensorio] [info] data_pipeline_stats={\"name\": \"/opt/ml/input/data/train\", \"epoch\": 0, \"duration\": 835, \"num_examples\": 1}\u001b[0m\n",
      "\u001b[31m[03/06/2019 22:13:57 INFO 140067999618880] Sampling training data...\u001b[0m\n"
     ]
    },
    {
     "name": "stdout",
     "output_type": "stream",
     "text": [
      "\u001b[31m[03/06/2019 22:14:08 INFO 140067999618880] Sampling training data completed.\u001b[0m\n",
      "\u001b[31m#metrics {\"Metrics\": {\"epochs\": {\"count\": 1, \"max\": 1, \"sum\": 1.0, \"min\": 1}, \"update.time\": {\"count\": 1, \"max\": 11192.84200668335, \"sum\": 11192.84200668335, \"min\": 11192.84200668335}}, \"EndTime\": 1551910448.302116, \"Dimensions\": {\"Host\": \"algo-1\", \"Operation\": \"training\", \"Algorithm\": \"RandomCutForest\"}, \"StartTime\": 1551910437.090268}\n",
      "\u001b[0m\n",
      "\u001b[31m[03/06/2019 22:14:08 INFO 140067999618880] Early stop condition met. Stopping training.\u001b[0m\n",
      "\u001b[31m[03/06/2019 22:14:08 INFO 140067999618880] #progress_metric: host=algo-1, completed 100 % epochs\u001b[0m\n",
      "\u001b[31m#metrics {\"Metrics\": {\"Max Batches Seen Between Resets\": {\"count\": 1, \"max\": 6363, \"sum\": 6363.0, \"min\": 6363}, \"Number of Batches Since Last Reset\": {\"count\": 1, \"max\": 6363, \"sum\": 6363.0, \"min\": 6363}, \"Number of Records Since Last Reset\": {\"count\": 1, \"max\": 6362620, \"sum\": 6362620.0, \"min\": 6362620}, \"Total Batches Seen\": {\"count\": 1, \"max\": 6363, \"sum\": 6363.0, \"min\": 6363}, \"Total Records Seen\": {\"count\": 1, \"max\": 6362620, \"sum\": 6362620.0, \"min\": 6362620}, \"Max Records Seen Between Resets\": {\"count\": 1, \"max\": 6362620, \"sum\": 6362620.0, \"min\": 6362620}, \"Reset Count\": {\"count\": 1, \"max\": 1, \"sum\": 1.0, \"min\": 1}}, \"EndTime\": 1551910448.302462, \"Dimensions\": {\"Host\": \"algo-1\", \"Meta\": \"training_data_iter\", \"Operation\": \"training\", \"Algorithm\": \"RandomCutForest\", \"epoch\": 0}, \"StartTime\": 1551910437.109237}\n",
      "\u001b[0m\n",
      "\u001b[31m[03/06/2019 22:14:08 INFO 140067999618880] #throughput_metric: host=algo-1, train throughput=568427.010133 records/second\u001b[0m\n",
      "\u001b[31m[03/06/2019 22:14:08 INFO 140067999618880] Master node: building Random Cut Forest...\u001b[0m\n",
      "\u001b[31m[03/06/2019 22:14:08 INFO 140067999618880] Gathering samples...\u001b[0m\n",
      "\u001b[31m[03/06/2019 22:14:08 INFO 140067999618880] Samples gathered\u001b[0m\n",
      "\u001b[31m[03/06/2019 22:14:08 INFO 140067999618880] Building Random Cut Forest...\u001b[0m\n",
      "\u001b[31m[03/06/2019 22:14:08 INFO 140067999618880] Random Cut Forest built: \n",
      "\u001b[0m\n",
      "\u001b[31mForestInfo{num_trees: 50, num_samples_in_forest: 25600, num_samples_per_tree: 512, sample_dim: 15, shingle_size: 1, trees_num_nodes: [1021, 1023, 1019, 1021, 1023, 1019, 1023, 1023, 1021, 1021, 1023, 1023, 1021, 1019, 1021, 1021, 1021, 1023, 1023, 1023, 1023, 1023, 1019, 1019, 1023, 1021, 1021, 1019, 1021, 1019, 1023, 1023, 1023, 1021, 1021, 1021, 1023, 1017, 1017, 1023, 1019, 1017, 1023, 1019, 1023, 1023, 1021, 1017, 1019, 1023, ], trees_depth: [36, 35, 34, 36, 28, 30, 34, 26, 27, 31, 33, 29, 27, 28, 26, 31, 34, 32, 30, 33, 30, 30, 28, 27, 28, 33, 29, 25, 26, 27, 34, 35, 31, 31, 25, 30, 34, 30, 25, 32, 29, 32, 30, 27, 31, 40, 34, 34, 36, 25, ], max_num_nodes: 1023, min_num_nodes: 1017, avg_num_nodes: 1021, max_tree_depth: 40, min_tree_depth: 25, avg_tree_depth: 30, mem_size: 16746816}\u001b[0m\n",
      "\u001b[31m#metrics {\"Metrics\": {\"finalize.time\": {\"count\": 1, \"max\": 87.0969295501709, \"sum\": 87.0969295501709, \"min\": 87.0969295501709}, \"model.bytes\": {\"count\": 1, \"max\": 16746816, \"sum\": 16746816.0, \"min\": 16746816}, \"fit_model.time\": {\"count\": 1, \"max\": 49.031972885131836, \"sum\": 49.031972885131836, \"min\": 49.031972885131836}}, \"EndTime\": 1551910448.389842, \"Dimensions\": {\"Host\": \"algo-1\", \"Operation\": \"training\", \"Algorithm\": \"RandomCutForest\"}, \"StartTime\": 1551910448.302208}\n",
      "\u001b[0m\n",
      "\u001b[31m[03/06/2019 22:14:08 INFO 140067999618880] Master node: Serializing the RandomCutForest model\u001b[0m\n",
      "\u001b[31m#metrics {\"Metrics\": {\"serialize_model.time\": {\"count\": 1, \"max\": 166.8839454650879, \"sum\": 166.8839454650879, \"min\": 166.8839454650879}}, \"EndTime\": 1551910448.556865, \"Dimensions\": {\"Host\": \"algo-1\", \"Operation\": \"training\", \"Algorithm\": \"RandomCutForest\"}, \"StartTime\": 1551910448.389925}\n",
      "\u001b[0m\n",
      "\u001b[31m[03/06/2019 22:14:08 INFO 140067999618880] Test data is not provided.\u001b[0m\n",
      "\u001b[31m[I 19-03-06 22:14:08] >>> shutting down FTP server (0 active fds) <<<\u001b[0m\n",
      "\u001b[31m[03/06/2019 22:14:08 INFO 140066265495296] >>> shutting down FTP server (0 active fds) <<<\u001b[0m\n",
      "\u001b[31m[2019-03-06 22:14:08.657] [tensorio] [info] data_pipeline_stats={\"name\": \"/opt/ml/input/data/train\", \"epoch\": 1, \"duration\": 11547, \"num_examples\": 6363}\u001b[0m\n",
      "\u001b[31m[2019-03-06 22:14:08.657] [tensorio] [info] data_pipeline_stats={\"name\": \"/opt/ml/input/data/train\", \"duration\": 12382, \"num_epochs\": 2, \"num_examples\": 6364}\u001b[0m\n",
      "\u001b[31m#metrics {\"Metrics\": {\"totaltime\": {\"count\": 1, \"max\": 12684.751987457275, \"sum\": 12684.751987457275, \"min\": 12684.751987457275}, \"setuptime\": {\"count\": 1, \"max\": 200.4110813140869, \"sum\": 200.4110813140869, \"min\": 200.4110813140869}}, \"EndTime\": 1551910448.683556, \"Dimensions\": {\"Host\": \"algo-1\", \"Operation\": \"training\", \"Algorithm\": \"RandomCutForest\"}, \"StartTime\": 1551910448.556954}\n",
      "\u001b[0m\n",
      "\n",
      "2019-03-06 22:14:16 Uploading - Uploading generated training model\n",
      "2019-03-06 22:14:16 Completed - Training job completed\n",
      "Billable seconds: 76\n"
     ]
    }
   ],
   "source": [
    "session=sagemaker.Session()\n",
    "execution_role = get_execution_role()\n",
    "\n",
    "train_data = sagemaker.s3_input(\n",
    "       s3_data=s3_training_data_location,\n",
    "       content_type='text/csv;label_size=0',\n",
    "       distribution='ShardedByS3Key')\n",
    "\n",
    "# specify general training job information\n",
    "rcf = RandomCutForest(role=execution_role,\n",
    "                      train_instance_count=1,\n",
    "                      train_instance_type='ml.m4.xlarge',\n",
    "                      base_job_name='vishal',\n",
    "                      data_location='s3://{}/{}/'.format(bucket, prefix),\n",
    "                      output_path='s3://{}/{}/output'.format(bucket, prefix),\n",
    "                      num_samples_per_tree=512,\n",
    "                      num_trees=50)\n",
    "\n",
    "rcf.fit(rcf.record_set(cleaned_data.as_matrix()))\n",
    "#rcf.fit({'train': train_data})"
   ]
  },
  {
   "cell_type": "code",
   "execution_count": null,
   "metadata": {},
   "outputs": [],
   "source": []
  }
 ],
 "metadata": {
  "kernelspec": {
   "display_name": "conda_python3",
   "language": "python",
   "name": "conda_python3"
  },
  "language_info": {
   "codemirror_mode": {
    "name": "ipython",
    "version": 3
   },
   "file_extension": ".py",
   "mimetype": "text/x-python",
   "name": "python",
   "nbconvert_exporter": "python",
   "pygments_lexer": "ipython3",
   "version": "3.6.5"
  }
 },
 "nbformat": 4,
 "nbformat_minor": 2
}
