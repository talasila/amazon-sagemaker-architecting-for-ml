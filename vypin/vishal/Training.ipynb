{
 "cells": [
  {
   "cell_type": "code",
   "execution_count": 13,
   "metadata": {},
   "outputs": [
    {
     "data": {
      "text/plain": [
       "(4453833, 11)"
      ]
     },
     "execution_count": 13,
     "metadata": {},
     "output_type": "execute_result"
    }
   ],
   "source": [
    "import boto3\n",
    "import sagemaker\n",
    "import pandas as pd\n",
    "from sagemaker import get_execution_role\n",
    "from sagemaker.amazon.amazon_estimator import get_image_uri\n",
    "from sagemaker import RandomCutForest\n",
    "\n",
    "bucket = 'anomaly-detection-team-vypin'   # <--- specify a bucket you have access to\n",
    "prefix = 'vishal/sagemaker/rcf-benchmarks'\n",
    "\n",
    "\n",
    "s3_training_data_location='s3://anomaly-detection-team-vypin/vishal/train.csv'\n",
    "cleaned_data=pd.read_csv(s3_training_data_location)\n",
    "cleaned_data.shape"
   ]
  },
  {
   "cell_type": "code",
   "execution_count": 14,
   "metadata": {},
   "outputs": [
    {
     "name": "stderr",
     "output_type": "stream",
     "text": [
      "INFO:sagemaker:Creating training-job with name: vishal-2019-03-07-18-30-38-812\n"
     ]
    },
    {
     "name": "stdout",
     "output_type": "stream",
     "text": [
      "2019-03-07 18:30:38 Starting - Starting the training job...\n",
      "2019-03-07 18:30:39 Starting - Launching requested ML instances............\n",
      "2019-03-07 18:32:44 Starting - Preparing the instances for training......\n",
      "2019-03-07 18:34:09 Downloading - Downloading input data.....\n",
      "\u001b[31mDocker entrypoint called with argument(s): train\u001b[0m\n",
      "\u001b[31m[03/07/2019 18:34:53 INFO 140140272490304] Reading default configuration from /opt/amazon/lib/python2.7/site-packages/algorithm/resources/default-conf.json: {u'_ftp_port': 8999, u'num_samples_per_tree': 256, u'_tuning_objective_metric': u'', u'_num_gpus': u'auto', u'_log_level': u'info', u'_kvstore': u'dist_async', u'force_dense': u'true', u'epochs': 1, u'num_trees': 100, u'eval_metrics': [u'accuracy', u'precision_recall_fscore'], u'_num_kv_servers': u'auto', u'mini_batch_size': 1000}\u001b[0m\n",
      "\u001b[31m[03/07/2019 18:34:53 INFO 140140272490304] Reading provided configuration from /opt/ml/input/config/hyperparameters.json: {u'mini_batch_size': u'1000', u'feature_dim': u'11', u'num_samples_per_tree': u'512', u'num_trees': u'50'}\u001b[0m\n",
      "\u001b[31m[03/07/2019 18:34:53 INFO 140140272490304] Final configuration: {u'_ftp_port': 8999, u'num_samples_per_tree': u'512', u'_tuning_objective_metric': u'', u'_num_gpus': u'auto', u'_log_level': u'info', u'_kvstore': u'dist_async', u'force_dense': u'true', u'epochs': 1, u'feature_dim': u'11', u'num_trees': u'50', u'eval_metrics': [u'accuracy', u'precision_recall_fscore'], u'_num_kv_servers': u'auto', u'mini_batch_size': u'1000'}\u001b[0m\n",
      "\u001b[31m[03/07/2019 18:34:53 WARNING 140140272490304] Loggers have already been setup.\u001b[0m\n",
      "\u001b[31m[03/07/2019 18:34:53 INFO 140140272490304] Launching parameter server for role scheduler\u001b[0m\n",
      "\u001b[31m[03/07/2019 18:34:53 INFO 140140272490304] {'ECS_CONTAINER_METADATA_URI': 'http://169.254.170.2/v3/6c32321c-7327-4cfd-bf9c-e3eb9293c9ea', 'PROTOCOL_BUFFERS_PYTHON_IMPLEMENTATION_VERSION': '2', 'PATH': '/opt/amazon/bin:/usr/local/nvidia/bin:/usr/local/sbin:/usr/local/bin:/usr/sbin:/usr/bin:/sbin:/bin:/opt/amazon/bin:/opt/amazon/bin', 'SAGEMAKER_HTTP_PORT': '8080', 'HOME': '/root', 'PYTHONUNBUFFERED': 'TRUE', 'CANONICAL_ENVROOT': '/opt/amazon', 'LD_LIBRARY_PATH': '/opt/amazon/lib/python2.7/site-packages/cv2/../../../../lib:/usr/local/nvidia/lib64:/opt/amazon/lib', 'MXNET_KVSTORE_BIGARRAY_BOUND': '400000000', 'LANG': 'en_US.utf8', 'DMLC_INTERFACE': 'ethwe', 'SHLVL': '1', 'AWS_REGION': 'us-east-1', 'NVIDIA_VISIBLE_DEVICES': 'all', 'TRAINING_JOB_NAME': 'vishal-2019-03-07-18-30-38-812', 'PROTOCOL_BUFFERS_PYTHON_IMPLEMENTATION': 'cpp', 'ENVROOT': '/opt/amazon', 'SAGEMAKER_DATA_PATH': '/opt/ml', 'NVIDIA_DRIVER_CAPABILITIES': 'compute,utility', 'NVIDIA_REQUIRE_CUDA': 'cuda>=9.0', 'OMP_NUM_THREADS': '2', 'HOSTNAME': 'aws', 'AWS_CONTAINER_CREDENTIALS_RELATIVE_URI': '/v2/credentials/ffeabcae-7e5e-4951-97b1-22b76e6b5baf', 'PWD': '/', 'AWS_EXECUTION_ENV': 'AWS_ECS_EC2'}\u001b[0m\n",
      "\u001b[31m[03/07/2019 18:34:53 INFO 140140272490304] envs={'ECS_CONTAINER_METADATA_URI': 'http://169.254.170.2/v3/6c32321c-7327-4cfd-bf9c-e3eb9293c9ea', 'PROTOCOL_BUFFERS_PYTHON_IMPLEMENTATION_VERSION': '2', 'DMLC_NUM_WORKER': '1', 'DMLC_PS_ROOT_PORT': '9000', 'PATH': '/opt/amazon/bin:/usr/local/nvidia/bin:/usr/local/sbin:/usr/local/bin:/usr/sbin:/usr/bin:/sbin:/bin:/opt/amazon/bin:/opt/amazon/bin', 'SAGEMAKER_HTTP_PORT': '8080', 'HOME': '/root', 'PYTHONUNBUFFERED': 'TRUE', 'CANONICAL_ENVROOT': '/opt/amazon', 'LD_LIBRARY_PATH': '/opt/amazon/lib/python2.7/site-packages/cv2/../../../../lib:/usr/local/nvidia/lib64:/opt/amazon/lib', 'MXNET_KVSTORE_BIGARRAY_BOUND': '400000000', 'LANG': 'en_US.utf8', 'DMLC_INTERFACE': 'ethwe', 'SHLVL': '1', 'DMLC_PS_ROOT_URI': '10.32.0.5', 'AWS_REGION': 'us-east-1', 'NVIDIA_VISIBLE_DEVICES': 'all', 'TRAINING_JOB_NAME': 'vishal-2019-03-07-18-30-38-812', 'PROTOCOL_BUFFERS_PYTHON_IMPLEMENTATION': 'cpp', 'ENVROOT': '/opt/amazon', 'SAGEMAKER_DATA_PATH': '/opt/ml', 'NVIDIA_DRIVER_CAPABILITIES': 'compute,utility', 'NVIDIA_REQUIRE_CUDA': 'cuda>=9.0', 'OMP_NUM_THREADS': '2', 'HOSTNAME': 'aws', 'AWS_CONTAINER_CREDENTIALS_RELATIVE_URI': '/v2/credentials/ffeabcae-7e5e-4951-97b1-22b76e6b5baf', 'DMLC_ROLE': 'scheduler', 'PWD': '/', 'DMLC_NUM_SERVER': '1', 'AWS_EXECUTION_ENV': 'AWS_ECS_EC2'}\u001b[0m\n",
      "\u001b[31m[03/07/2019 18:34:53 INFO 140140272490304] Launching parameter server for role server\u001b[0m\n",
      "\u001b[31m[03/07/2019 18:34:53 INFO 140140272490304] {'ECS_CONTAINER_METADATA_URI': 'http://169.254.170.2/v3/6c32321c-7327-4cfd-bf9c-e3eb9293c9ea', 'PROTOCOL_BUFFERS_PYTHON_IMPLEMENTATION_VERSION': '2', 'PATH': '/opt/amazon/bin:/usr/local/nvidia/bin:/usr/local/sbin:/usr/local/bin:/usr/sbin:/usr/bin:/sbin:/bin:/opt/amazon/bin:/opt/amazon/bin', 'SAGEMAKER_HTTP_PORT': '8080', 'HOME': '/root', 'PYTHONUNBUFFERED': 'TRUE', 'CANONICAL_ENVROOT': '/opt/amazon', 'LD_LIBRARY_PATH': '/opt/amazon/lib/python2.7/site-packages/cv2/../../../../lib:/usr/local/nvidia/lib64:/opt/amazon/lib', 'MXNET_KVSTORE_BIGARRAY_BOUND': '400000000', 'LANG': 'en_US.utf8', 'DMLC_INTERFACE': 'ethwe', 'SHLVL': '1', 'AWS_REGION': 'us-east-1', 'NVIDIA_VISIBLE_DEVICES': 'all', 'TRAINING_JOB_NAME': 'vishal-2019-03-07-18-30-38-812', 'PROTOCOL_BUFFERS_PYTHON_IMPLEMENTATION': 'cpp', 'ENVROOT': '/opt/amazon', 'SAGEMAKER_DATA_PATH': '/opt/ml', 'NVIDIA_DRIVER_CAPABILITIES': 'compute,utility', 'NVIDIA_REQUIRE_CUDA': 'cuda>=9.0', 'OMP_NUM_THREADS': '2', 'HOSTNAME': 'aws', 'AWS_CONTAINER_CREDENTIALS_RELATIVE_URI': '/v2/credentials/ffeabcae-7e5e-4951-97b1-22b76e6b5baf', 'PWD': '/', 'AWS_EXECUTION_ENV': 'AWS_ECS_EC2'}\u001b[0m\n",
      "\u001b[31m[03/07/2019 18:34:53 INFO 140140272490304] envs={'ECS_CONTAINER_METADATA_URI': 'http://169.254.170.2/v3/6c32321c-7327-4cfd-bf9c-e3eb9293c9ea', 'PROTOCOL_BUFFERS_PYTHON_IMPLEMENTATION_VERSION': '2', 'DMLC_NUM_WORKER': '1', 'DMLC_PS_ROOT_PORT': '9000', 'PATH': '/opt/amazon/bin:/usr/local/nvidia/bin:/usr/local/sbin:/usr/local/bin:/usr/sbin:/usr/bin:/sbin:/bin:/opt/amazon/bin:/opt/amazon/bin', 'SAGEMAKER_HTTP_PORT': '8080', 'HOME': '/root', 'PYTHONUNBUFFERED': 'TRUE', 'CANONICAL_ENVROOT': '/opt/amazon', 'LD_LIBRARY_PATH': '/opt/amazon/lib/python2.7/site-packages/cv2/../../../../lib:/usr/local/nvidia/lib64:/opt/amazon/lib', 'MXNET_KVSTORE_BIGARRAY_BOUND': '400000000', 'LANG': 'en_US.utf8', 'DMLC_INTERFACE': 'ethwe', 'SHLVL': '1', 'DMLC_PS_ROOT_URI': '10.32.0.5', 'AWS_REGION': 'us-east-1', 'NVIDIA_VISIBLE_DEVICES': 'all', 'TRAINING_JOB_NAME': 'vishal-2019-03-07-18-30-38-812', 'PROTOCOL_BUFFERS_PYTHON_IMPLEMENTATION': 'cpp', 'ENVROOT': '/opt/amazon', 'SAGEMAKER_DATA_PATH': '/opt/ml', 'NVIDIA_DRIVER_CAPABILITIES': 'compute,utility', 'NVIDIA_REQUIRE_CUDA': 'cuda>=9.0', 'OMP_NUM_THREADS': '2', 'HOSTNAME': 'aws', 'AWS_CONTAINER_CREDENTIALS_RELATIVE_URI': '/v2/credentials/ffeabcae-7e5e-4951-97b1-22b76e6b5baf', 'DMLC_ROLE': 'server', 'PWD': '/', 'DMLC_NUM_SERVER': '1', 'AWS_EXECUTION_ENV': 'AWS_ECS_EC2'}\u001b[0m\n",
      "\u001b[31m[03/07/2019 18:34:53 INFO 140140272490304] Environment: {'ECS_CONTAINER_METADATA_URI': 'http://169.254.170.2/v3/6c32321c-7327-4cfd-bf9c-e3eb9293c9ea', 'PROTOCOL_BUFFERS_PYTHON_IMPLEMENTATION_VERSION': '2', 'DMLC_PS_ROOT_PORT': '9000', 'DMLC_NUM_WORKER': '1', 'SAGEMAKER_HTTP_PORT': '8080', 'PATH': '/opt/amazon/bin:/usr/local/nvidia/bin:/usr/local/sbin:/usr/local/bin:/usr/sbin:/usr/bin:/sbin:/bin:/opt/amazon/bin:/opt/amazon/bin', 'PYTHONUNBUFFERED': 'TRUE', 'CANONICAL_ENVROOT': '/opt/amazon', 'LD_LIBRARY_PATH': '/opt/amazon/lib/python2.7/site-packages/cv2/../../../../lib:/usr/local/nvidia/lib64:/opt/amazon/lib', 'MXNET_KVSTORE_BIGARRAY_BOUND': '400000000', 'LANG': 'en_US.utf8', 'DMLC_INTERFACE': 'ethwe', 'SHLVL': '1', 'DMLC_PS_ROOT_URI': '10.32.0.5', 'AWS_REGION': 'us-east-1', 'NVIDIA_VISIBLE_DEVICES': 'all', 'TRAINING_JOB_NAME': 'vishal-2019-03-07-18-30-38-812', 'HOME': '/root', 'PROTOCOL_BUFFERS_PYTHON_IMPLEMENTATION': 'cpp', 'ENVROOT': '/opt/amazon', 'SAGEMAKER_DATA_PATH': '/opt/ml', 'NVIDIA_DRIVER_CAPABILITIES': 'compute,utility', 'NVIDIA_REQUIRE_CUDA': 'cuda>=9.0', 'OMP_NUM_THREADS': '2', 'HOSTNAME': 'aws', 'AWS_CONTAINER_CREDENTIALS_RELATIVE_URI': '/v2/credentials/ffeabcae-7e5e-4951-97b1-22b76e6b5baf', 'DMLC_ROLE': 'worker', 'PWD': '/', 'DMLC_NUM_SERVER': '1', 'AWS_EXECUTION_ENV': 'AWS_ECS_EC2'}\u001b[0m\n",
      "\u001b[31mProcess 36 is a shell:scheduler.\u001b[0m\n",
      "\u001b[31mProcess 37 is a shell:server.\u001b[0m\n",
      "\u001b[31mProcess 1 is a worker.\u001b[0m\n",
      "\u001b[31m[03/07/2019 18:34:53 INFO 140140272490304] Using default worker.\u001b[0m\n",
      "\u001b[31m[03/07/2019 18:34:53 INFO 140140272490304] Loaded iterator creator application/x-recordio-protobuf for content type ('application/x-recordio-protobuf', '1.0')\u001b[0m\n",
      "\u001b[31m[03/07/2019 18:34:53 INFO 140140272490304] Verifying hyperparamemters...\u001b[0m\n",
      "\u001b[31m[03/07/2019 18:34:53 INFO 140140272490304] Hyperparameters are correct.\u001b[0m\n",
      "\u001b[31m[03/07/2019 18:34:53 INFO 140140272490304] Validating that feature_dim agrees with dimensions in training data...\u001b[0m\n",
      "\u001b[31m[03/07/2019 18:34:53 INFO 140140272490304] feature_dim is correct.\u001b[0m\n",
      "\u001b[31m[03/07/2019 18:34:53 INFO 140140272490304] Validating memory limits...\u001b[0m\n",
      "\u001b[31m[03/07/2019 18:34:53 INFO 140140272490304] Available memory in bytes: 15170351104\u001b[0m\n",
      "\u001b[31m[03/07/2019 18:34:53 INFO 140140272490304] Estimated sample size in bytes: 4505600\u001b[0m\n",
      "\u001b[31m[03/07/2019 18:34:53 INFO 140140272490304] Estimated memory needed to build the forest in bytes: 11264000\u001b[0m\n",
      "\u001b[31m[03/07/2019 18:34:53 INFO 140140272490304] Memory limits validated.\u001b[0m\n",
      "\u001b[31m[03/07/2019 18:34:53 INFO 140140272490304] Starting cluster sharing facilities...\u001b[0m\n",
      "\u001b[31m[03/07/2019 18:34:53 INFO 140140272490304] Create Store: dist_async\u001b[0m\n",
      "\u001b[31m[I 19-03-07 18:34:53] >>> starting FTP server on 0.0.0.0:8999, pid=1 <<<\u001b[0m\n",
      "\u001b[31m[03/07/2019 18:34:53 INFO 140138801784576] >>> starting FTP server on 0.0.0.0:8999, pid=1 <<<\u001b[0m\n",
      "\u001b[31m[I 19-03-07 18:34:53] poller: <class 'pyftpdlib.ioloop.Epoll'>\u001b[0m\n",
      "\u001b[31m[03/07/2019 18:34:53 INFO 140138801784576] poller: <class 'pyftpdlib.ioloop.Epoll'>\u001b[0m\n",
      "\u001b[31m[I 19-03-07 18:34:53] masquerade (NAT) address: None\u001b[0m\n",
      "\u001b[31m[I 19-03-07 18:34:53] passive ports: None\u001b[0m\n",
      "\u001b[31m[03/07/2019 18:34:53 INFO 140138801784576] masquerade (NAT) address: None\u001b[0m\n",
      "\u001b[31m[03/07/2019 18:34:53 INFO 140138801784576] passive ports: None\u001b[0m\n",
      "\u001b[31m[I 19-03-07 18:34:53] use sendfile(2): False\u001b[0m\n",
      "\u001b[31m[03/07/2019 18:34:53 INFO 140138801784576] use sendfile(2): False\u001b[0m\n",
      "\u001b[31m[03/07/2019 18:34:54 INFO 140140272490304] Cluster sharing facilities started.\u001b[0m\n",
      "\u001b[31m[03/07/2019 18:34:54 INFO 140140272490304] Verifying all workers are accessible...\u001b[0m\n",
      "\u001b[31m[03/07/2019 18:34:54 INFO 140140272490304] All workers accessible.\u001b[0m\n",
      "\u001b[31m[03/07/2019 18:34:54 INFO 140140272490304] Initializing Sampler...\u001b[0m\n",
      "\u001b[31m[03/07/2019 18:34:54 INFO 140140272490304] Sampler correctly initialized.\u001b[0m\n",
      "\u001b[31m#metrics {\"Metrics\": {\"initialize.time\": {\"count\": 1, \"max\": 781.8470001220703, \"sum\": 781.8470001220703, \"min\": 781.8470001220703}}, \"EndTime\": 1551983694.463134, \"Dimensions\": {\"Host\": \"algo-1\", \"Operation\": \"training\", \"Algorithm\": \"RandomCutForest\"}, \"StartTime\": 1551983693.661816}\n",
      "\u001b[0m\n",
      "\u001b[31m#metrics {\"Metrics\": {\"Max Batches Seen Between Resets\": {\"count\": 1, \"max\": 0, \"sum\": 0.0, \"min\": 0}, \"Number of Batches Since Last Reset\": {\"count\": 1, \"max\": 0, \"sum\": 0.0, \"min\": 0}, \"Number of Records Since Last Reset\": {\"count\": 1, \"max\": 0, \"sum\": 0.0, \"min\": 0}, \"Total Batches Seen\": {\"count\": 1, \"max\": 0, \"sum\": 0.0, \"min\": 0}, \"Total Records Seen\": {\"count\": 1, \"max\": 0, \"sum\": 0.0, \"min\": 0}, \"Max Records Seen Between Resets\": {\"count\": 1, \"max\": 0, \"sum\": 0.0, \"min\": 0}, \"Reset Count\": {\"count\": 1, \"max\": 0, \"sum\": 0.0, \"min\": 0}}, \"EndTime\": 1551983694.46348, \"Dimensions\": {\"Host\": \"algo-1\", \"Meta\": \"init_train_data_iter\", \"Operation\": \"training\", \"Algorithm\": \"RandomCutForest\"}, \"StartTime\": 1551983694.46341}\n",
      "\u001b[0m\n",
      "\u001b[31m[2019-03-07 18:34:54.476] [tensorio] [info] epoch_stats={\"data_pipeline\": \"/opt/ml/input/data/train\", \"epoch\": 0, \"duration\": 814, \"num_examples\": 1, \"num_bytes\": 112000}\u001b[0m\n",
      "\u001b[31m[03/07/2019 18:34:54 INFO 140140272490304] Sampling training data...\u001b[0m\n"
     ]
    },
    {
     "name": "stdout",
     "output_type": "stream",
     "text": [
      "\n",
      "2019-03-07 18:35:07 Training - Training image download completed. Training in progress.\n",
      "2019-03-07 18:35:07 Uploading - Uploading generated training model\u001b[31m[2019-03-07 18:35:02.599] [tensorio] [info] epoch_stats={\"data_pipeline\": \"/opt/ml/input/data/train\", \"epoch\": 1, \"duration\": 8122, \"num_examples\": 4454, \"num_bytes\": 498829296}\u001b[0m\n",
      "\u001b[31m[03/07/2019 18:35:02 INFO 140140272490304] Sampling training data completed.\u001b[0m\n",
      "\u001b[31m#metrics {\"Metrics\": {\"epochs\": {\"count\": 1, \"max\": 1, \"sum\": 1.0, \"min\": 1}, \"update.time\": {\"count\": 1, \"max\": 8135.572910308838, \"sum\": 8135.572910308838, \"min\": 8135.572910308838}}, \"EndTime\": 1551983702.612691, \"Dimensions\": {\"Host\": \"algo-1\", \"Operation\": \"training\", \"Algorithm\": \"RandomCutForest\"}, \"StartTime\": 1551983694.463302}\n",
      "\u001b[0m\n",
      "\u001b[31m[03/07/2019 18:35:02 INFO 140140272490304] Early stop condition met. Stopping training.\u001b[0m\n",
      "\u001b[31m[03/07/2019 18:35:02 INFO 140140272490304] #progress_metric: host=algo-1, completed 100 % epochs\u001b[0m\n",
      "\u001b[31m#metrics {\"Metrics\": {\"Max Batches Seen Between Resets\": {\"count\": 1, \"max\": 4454, \"sum\": 4454.0, \"min\": 4454}, \"Number of Batches Since Last Reset\": {\"count\": 1, \"max\": 4454, \"sum\": 4454.0, \"min\": 4454}, \"Number of Records Since Last Reset\": {\"count\": 1, \"max\": 4453833, \"sum\": 4453833.0, \"min\": 4453833}, \"Total Batches Seen\": {\"count\": 1, \"max\": 4454, \"sum\": 4454.0, \"min\": 4454}, \"Total Records Seen\": {\"count\": 1, \"max\": 4453833, \"sum\": 4453833.0, \"min\": 4453833}, \"Max Records Seen Between Resets\": {\"count\": 1, \"max\": 4453833, \"sum\": 4453833.0, \"min\": 4453833}, \"Reset Count\": {\"count\": 1, \"max\": 1, \"sum\": 1.0, \"min\": 1}}, \"EndTime\": 1551983702.613063, \"Dimensions\": {\"Host\": \"algo-1\", \"Meta\": \"training_data_iter\", \"Operation\": \"training\", \"Algorithm\": \"RandomCutForest\", \"epoch\": 0}, \"StartTime\": 1551983694.477068}\n",
      "\u001b[0m\n",
      "\u001b[31m[03/07/2019 18:35:02 INFO 140140272490304] #throughput_metric: host=algo-1, train throughput=547409.754608 records/second\u001b[0m\n",
      "\u001b[31m[03/07/2019 18:35:02 INFO 140140272490304] Master node: building Random Cut Forest...\u001b[0m\n",
      "\u001b[31m[03/07/2019 18:35:02 INFO 140140272490304] Gathering samples...\u001b[0m\n",
      "\u001b[31m[03/07/2019 18:35:02 INFO 140140272490304] Samples gathered\u001b[0m\n",
      "\u001b[31m[03/07/2019 18:35:02 INFO 140140272490304] Building Random Cut Forest...\u001b[0m\n",
      "\u001b[31m[03/07/2019 18:35:02 INFO 140140272490304] Random Cut Forest built: \n",
      "\u001b[0m\n",
      "\u001b[31mForestInfo{num_trees: 50, num_samples_in_forest: 25600, num_samples_per_tree: 512, sample_dim: 11, shingle_size: 1, trees_num_nodes: [1023, 1023, 1023, 1023, 1023, 1023, 1023, 1023, 1023, 1023, 1023, 1023, 1023, 1023, 1023, 1023, 1021, 1021, 1023, 1023, 1023, 1023, 1023, 1023, 1023, 1023, 1023, 1023, 1023, 1023, 1023, 1023, 1023, 1023, 1023, 1023, 1023, 1023, 1023, 1023, 1023, 1021, 1023, 1023, 1023, 1023, 1023, 1023, 1023, 1023, ], trees_depth: [33, 42, 40, 36, 38, 39, 40, 42, 39, 45, 35, 34, 36, 39, 32, 38, 37, 28, 30, 30, 43, 44, 28, 46, 39, 28, 45, 35, 37, 28, 28, 37, 41, 32, 32, 37, 32, 35, 29, 41, 33, 33, 40, 37, 33, 39, 33, 35, 32, 37, ], max_num_nodes: 1023, min_num_nodes: 1021, avg_num_nodes: 1022, max_tree_depth: 46, min_tree_depth: 28, avg_tree_depth: 36, mem_size: 13502464}\u001b[0m\n",
      "\u001b[31m#metrics {\"Metrics\": {\"finalize.time\": {\"count\": 1, \"max\": 95.34692764282227, \"sum\": 95.34692764282227, \"min\": 95.34692764282227}, \"model.bytes\": {\"count\": 1, \"max\": 13502464, \"sum\": 13502464.0, \"min\": 13502464}, \"fit_model.time\": {\"count\": 1, \"max\": 44.41404342651367, \"sum\": 44.41404342651367, \"min\": 44.41404342651367}}, \"EndTime\": 1551983702.708739, \"Dimensions\": {\"Host\": \"algo-1\", \"Operation\": \"training\", \"Algorithm\": \"RandomCutForest\"}, \"StartTime\": 1551983702.612794}\n",
      "\u001b[0m\n",
      "\u001b[31m[03/07/2019 18:35:02 INFO 140140272490304] Master node: Serializing the RandomCutForest model\u001b[0m\n",
      "\u001b[31m#metrics {\"Metrics\": {\"serialize_model.time\": {\"count\": 1, \"max\": 147.68004417419434, \"sum\": 147.68004417419434, \"min\": 147.68004417419434}}, \"EndTime\": 1551983702.856586, \"Dimensions\": {\"Host\": \"algo-1\", \"Operation\": \"training\", \"Algorithm\": \"RandomCutForest\"}, \"StartTime\": 1551983702.708843}\n",
      "\u001b[0m\n",
      "\u001b[31m[03/07/2019 18:35:02 INFO 140140272490304] Test data is not provided.\u001b[0m\n",
      "\u001b[31m[I 19-03-07 18:35:02] >>> shutting down FTP server (0 active fds) <<<\u001b[0m\n",
      "\u001b[31m[03/07/2019 18:35:02 INFO 140138801784576] >>> shutting down FTP server (0 active fds) <<<\u001b[0m\n",
      "\u001b[31m#metrics {\"Metrics\": {\"totaltime\": {\"count\": 1, \"max\": 9581.804990768433, \"sum\": 9581.804990768433, \"min\": 9581.804990768433}, \"setuptime\": {\"count\": 1, \"max\": 191.70093536376953, \"sum\": 191.70093536376953, \"min\": 191.70093536376953}}, \"EndTime\": 1551983702.992019, \"Dimensions\": {\"Host\": \"algo-1\", \"Operation\": \"training\", \"Algorithm\": \"RandomCutForest\"}, \"StartTime\": 1551983702.856684}\n",
      "\u001b[0m\n",
      "\n",
      "2019-03-07 18:35:13 Completed - Training job completed\n",
      "Billable seconds: 65\n"
     ]
    }
   ],
   "source": [
    "session=sagemaker.Session()\n",
    "execution_role = get_execution_role()\n",
    "\n",
    "train_data = sagemaker.s3_input(\n",
    "       s3_data=s3_training_data_location,\n",
    "       content_type='text/csv;label_size=0',\n",
    "       distribution='ShardedByS3Key')\n",
    "\n",
    "# specify general training job information\n",
    "rcf = RandomCutForest(role=execution_role,\n",
    "                      train_instance_count=1,\n",
    "                      train_instance_type='ml.m4.xlarge',\n",
    "                      base_job_name='vishal',\n",
    "                      data_location='s3://{}/{}/'.format(bucket, prefix),\n",
    "                      output_path='s3://{}/{}/output'.format(bucket, prefix),\n",
    "                      num_samples_per_tree=512,\n",
    "                      num_trees=50)\n",
    "\n",
    "rcf.fit(rcf.record_set(cleaned_data.as_matrix()))\n",
    "#rcf.fit({'train': train_data})"
   ]
  },
  {
   "cell_type": "code",
   "execution_count": 15,
   "metadata": {},
   "outputs": [
    {
     "name": "stderr",
     "output_type": "stream",
     "text": [
      "INFO:sagemaker:Creating model with name: randomcutforest-2019-03-07-18-35-52-893\n",
      "INFO:sagemaker:Creating endpoint with name vishal-2019-03-07-18-30-38-812\n"
     ]
    },
    {
     "name": "stdout",
     "output_type": "stream",
     "text": [
      "----------------------------------------------------------------------------!Endpoint name: vishal-2019-03-07-18-30-38-812\n"
     ]
    }
   ],
   "source": [
    "rcf_inference = rcf.deploy(\n",
    "    initial_instance_count=1,\n",
    "    instance_type='ml.m4.xlarge',\n",
    ")\n",
    "\n",
    "print('Endpoint name: {}'.format(rcf_inference.endpoint))"
   ]
  },
  {
   "cell_type": "code",
   "execution_count": 16,
   "metadata": {},
   "outputs": [
    {
     "name": "stdout",
     "output_type": "stream",
     "text": [
      "[[5.22000000e+02 4.06348000e+03 2.01730000e+04 1.61095200e+04\n",
      "  0.00000000e+00 0.00000000e+00 0.00000000e+00 0.00000000e+00\n",
      "  0.00000000e+00 1.00000000e+00 0.00000000e+00]\n",
      " [2.75000000e+02 9.83906350e+05 0.00000000e+00 0.00000000e+00\n",
      "  1.00395351e+06 1.98785986e+06 0.00000000e+00 0.00000000e+00\n",
      "  0.00000000e+00 0.00000000e+00 1.00000000e+00]\n",
      " [3.60000000e+01 3.88991900e+04 0.00000000e+00 0.00000000e+00\n",
      "  1.24649240e+05 1.63548430e+05 0.00000000e+00 1.00000000e+00\n",
      "  0.00000000e+00 0.00000000e+00 0.00000000e+00]\n",
      " [3.58000000e+02 1.80673400e+04 4.23778000e+05 4.05710660e+05\n",
      "  0.00000000e+00 0.00000000e+00 0.00000000e+00 0.00000000e+00\n",
      "  0.00000000e+00 1.00000000e+00 0.00000000e+00]\n",
      " [1.70000000e+01 4.24320010e+05 1.59407000e+05 0.00000000e+00\n",
      "  0.00000000e+00 2.07061960e+05 0.00000000e+00 1.00000000e+00\n",
      "  0.00000000e+00 0.00000000e+00 0.00000000e+00]\n",
      " [4.03000000e+02 1.34374500e+04 0.00000000e+00 0.00000000e+00\n",
      "  0.00000000e+00 0.00000000e+00 0.00000000e+00 0.00000000e+00\n",
      "  0.00000000e+00 1.00000000e+00 0.00000000e+00]]\n"
     ]
    }
   ],
   "source": [
    "from sagemaker.predictor import csv_serializer, json_deserializer\n",
    "\n",
    "rcf_inference.content_type = 'text/csv'\n",
    "rcf_inference.serializer = csv_serializer\n",
    "rcf_inference.accept = 'application/json'\n",
    "rcf_inference.deserializer = json_deserializer\n",
    "\n",
    "cleaned_data_numpy = cleaned_data.as_matrix()\n",
    "print(cleaned_data_numpy[:6])\n"
   ]
  },
  {
   "cell_type": "code",
   "execution_count": 17,
   "metadata": {},
   "outputs": [],
   "source": [
    "results = rcf_inference.predict(cleaned_data_numpy[:6])"
   ]
  },
  {
   "cell_type": "code",
   "execution_count": 18,
   "metadata": {},
   "outputs": [
    {
     "name": "stderr",
     "output_type": "stream",
     "text": [
      "INFO:sagemaker:Creating model with name: vishal-2019-03-07-18-30-38-812\n",
      "INFO:sagemaker:Creating transform job with name: vishal-2019-03-07-18-42-19-306\n"
     ]
    },
    {
     "name": "stdout",
     "output_type": "stream",
     "text": [
      "......................................................!\n"
     ]
    }
   ],
   "source": [
    "s3_validation_data_location='s3://anomaly-detection-team-vypin/vishal/validation.csv'\n",
    "s3_validation_results_location='s3://anomaly-detection-team-vypin/vishal/batchtransofrm_results'\n",
    "# Initialize the transformer object\n",
    "transformer = rcf.transformer(\n",
    "   instance_type='ml.c4.xlarge',\n",
    "   instance_count=1,\n",
    "   strategy='MultiRecord',\n",
    "   assemble_with='Line',\n",
    "   output_path=s3_validation_results_location\n",
    "   )\n",
    "# Start a transform job\n",
    "transformer.transform(s3_validation_data_location, content_type='text/csv', split_type='Line')\n",
    "# Then wait until the transform job has completed\n",
    "transformer.wait()\n",
    "\n"
   ]
  },
  {
   "cell_type": "code",
   "execution_count": 27,
   "metadata": {},
   "outputs": [],
   "source": [
    "import json\n",
    "\n",
    "s3 = boto3.resource('s3')\n",
    "s3.Bucket('anomaly-detection-team-vypin').download_file('vishal/batchtransofrm_results/validation.csv.out', 'validation.csv.out')\n",
    "\n",
    "#results=pd.read_csv('s3://anomaly-detection-team-vypin/vishal/batchtransofrm_results/validation.csv.out')"
   ]
  },
  {
   "cell_type": "code",
   "execution_count": 30,
   "metadata": {},
   "outputs": [],
   "source": [
    "import sys\n",
    "fo = open(\"validation.csv.out\", \"r\")\n",
    "results=fo.readlines()"
   ]
  },
  {
   "cell_type": "code",
   "execution_count": 31,
   "metadata": {},
   "outputs": [],
   "source": [
    "\n",
    "scores = [json.loads(datum)['score'] for datum in results]\n"
   ]
  },
  {
   "cell_type": "code",
   "execution_count": 32,
   "metadata": {},
   "outputs": [],
   "source": [
    "validation_data=pd.read_csv('s3://anomaly-detection-team-vypin/vishal/validation_full_data.csv')"
   ]
  },
  {
   "cell_type": "code",
   "execution_count": 33,
   "metadata": {},
   "outputs": [
    {
     "data": {
      "text/plain": [
       "(1272524, 13)"
      ]
     },
     "execution_count": 33,
     "metadata": {},
     "output_type": "execute_result"
    }
   ],
   "source": [
    "#validation_data.head()\n",
    "validation_data.shape"
   ]
  },
  {
   "cell_type": "code",
   "execution_count": 34,
   "metadata": {},
   "outputs": [],
   "source": [
    "validation_data['score']=scores\n"
   ]
  },
  {
   "cell_type": "code",
   "execution_count": 35,
   "metadata": {},
   "outputs": [
    {
     "data": {
      "text/html": [
       "<div>\n",
       "<style scoped>\n",
       "    .dataframe tbody tr th:only-of-type {\n",
       "        vertical-align: middle;\n",
       "    }\n",
       "\n",
       "    .dataframe tbody tr th {\n",
       "        vertical-align: top;\n",
       "    }\n",
       "\n",
       "    .dataframe thead th {\n",
       "        text-align: right;\n",
       "    }\n",
       "</style>\n",
       "<table border=\"1\" class=\"dataframe\">\n",
       "  <thead>\n",
       "    <tr style=\"text-align: right;\">\n",
       "      <th></th>\n",
       "      <th>step</th>\n",
       "      <th>amount</th>\n",
       "      <th>oldbalanceOrg</th>\n",
       "      <th>newbalanceOrig</th>\n",
       "      <th>oldbalanceDest</th>\n",
       "      <th>newbalanceDest</th>\n",
       "      <th>isFraud</th>\n",
       "      <th>isFlaggedFraud</th>\n",
       "      <th>type_CASH_IN</th>\n",
       "      <th>type_CASH_OUT</th>\n",
       "      <th>type_DEBIT</th>\n",
       "      <th>type_PAYMENT</th>\n",
       "      <th>type_TRANSFER</th>\n",
       "      <th>score</th>\n",
       "    </tr>\n",
       "  </thead>\n",
       "  <tbody>\n",
       "    <tr>\n",
       "      <th>0</th>\n",
       "      <td>528</td>\n",
       "      <td>7584.30</td>\n",
       "      <td>60102.00</td>\n",
       "      <td>52517.70</td>\n",
       "      <td>0.0</td>\n",
       "      <td>0.00</td>\n",
       "      <td>0</td>\n",
       "      <td>0</td>\n",
       "      <td>0</td>\n",
       "      <td>0</td>\n",
       "      <td>0</td>\n",
       "      <td>1</td>\n",
       "      <td>0</td>\n",
       "      <td>0.374255</td>\n",
       "    </tr>\n",
       "    <tr>\n",
       "      <th>1</th>\n",
       "      <td>136</td>\n",
       "      <td>17475.37</td>\n",
       "      <td>399528.82</td>\n",
       "      <td>382053.45</td>\n",
       "      <td>0.0</td>\n",
       "      <td>0.00</td>\n",
       "      <td>0</td>\n",
       "      <td>0</td>\n",
       "      <td>0</td>\n",
       "      <td>0</td>\n",
       "      <td>0</td>\n",
       "      <td>1</td>\n",
       "      <td>0</td>\n",
       "      <td>0.496790</td>\n",
       "    </tr>\n",
       "    <tr>\n",
       "      <th>2</th>\n",
       "      <td>262</td>\n",
       "      <td>5603.06</td>\n",
       "      <td>13479.00</td>\n",
       "      <td>7875.94</td>\n",
       "      <td>0.0</td>\n",
       "      <td>0.00</td>\n",
       "      <td>0</td>\n",
       "      <td>0</td>\n",
       "      <td>0</td>\n",
       "      <td>0</td>\n",
       "      <td>0</td>\n",
       "      <td>1</td>\n",
       "      <td>0</td>\n",
       "      <td>0.355900</td>\n",
       "    </tr>\n",
       "    <tr>\n",
       "      <th>3</th>\n",
       "      <td>231</td>\n",
       "      <td>199365.72</td>\n",
       "      <td>41193.00</td>\n",
       "      <td>0.00</td>\n",
       "      <td>0.0</td>\n",
       "      <td>199365.72</td>\n",
       "      <td>0</td>\n",
       "      <td>0</td>\n",
       "      <td>0</td>\n",
       "      <td>1</td>\n",
       "      <td>0</td>\n",
       "      <td>0</td>\n",
       "      <td>0</td>\n",
       "      <td>0.431932</td>\n",
       "    </tr>\n",
       "    <tr>\n",
       "      <th>4</th>\n",
       "      <td>212</td>\n",
       "      <td>28174.70</td>\n",
       "      <td>0.00</td>\n",
       "      <td>0.00</td>\n",
       "      <td>0.0</td>\n",
       "      <td>0.00</td>\n",
       "      <td>0</td>\n",
       "      <td>0</td>\n",
       "      <td>0</td>\n",
       "      <td>0</td>\n",
       "      <td>0</td>\n",
       "      <td>1</td>\n",
       "      <td>0</td>\n",
       "      <td>0.338533</td>\n",
       "    </tr>\n",
       "  </tbody>\n",
       "</table>\n",
       "</div>"
      ],
      "text/plain": [
       "   step     amount  oldbalanceOrg  newbalanceOrig  oldbalanceDest  \\\n",
       "0   528    7584.30       60102.00        52517.70             0.0   \n",
       "1   136   17475.37      399528.82       382053.45             0.0   \n",
       "2   262    5603.06       13479.00         7875.94             0.0   \n",
       "3   231  199365.72       41193.00            0.00             0.0   \n",
       "4   212   28174.70           0.00            0.00             0.0   \n",
       "\n",
       "   newbalanceDest  isFraud  isFlaggedFraud  type_CASH_IN  type_CASH_OUT  \\\n",
       "0            0.00        0               0             0              0   \n",
       "1            0.00        0               0             0              0   \n",
       "2            0.00        0               0             0              0   \n",
       "3       199365.72        0               0             0              1   \n",
       "4            0.00        0               0             0              0   \n",
       "\n",
       "   type_DEBIT  type_PAYMENT  type_TRANSFER     score  \n",
       "0           0             1              0  0.374255  \n",
       "1           0             1              0  0.496790  \n",
       "2           0             1              0  0.355900  \n",
       "3           0             0              0  0.431932  \n",
       "4           0             1              0  0.338533  "
      ]
     },
     "execution_count": 35,
     "metadata": {},
     "output_type": "execute_result"
    }
   ],
   "source": [
    "validation_data.head()"
   ]
  },
  {
   "cell_type": "code",
   "execution_count": 37,
   "metadata": {},
   "outputs": [],
   "source": [
    "score_vs_fraud=validation_data[['isFraud','score']]"
   ]
  },
  {
   "cell_type": "code",
   "execution_count": 38,
   "metadata": {},
   "outputs": [
    {
     "data": {
      "text/html": [
       "<div>\n",
       "<style scoped>\n",
       "    .dataframe tbody tr th:only-of-type {\n",
       "        vertical-align: middle;\n",
       "    }\n",
       "\n",
       "    .dataframe tbody tr th {\n",
       "        vertical-align: top;\n",
       "    }\n",
       "\n",
       "    .dataframe thead th {\n",
       "        text-align: right;\n",
       "    }\n",
       "</style>\n",
       "<table border=\"1\" class=\"dataframe\">\n",
       "  <thead>\n",
       "    <tr style=\"text-align: right;\">\n",
       "      <th></th>\n",
       "      <th>isFraud</th>\n",
       "      <th>score</th>\n",
       "    </tr>\n",
       "  </thead>\n",
       "  <tbody>\n",
       "    <tr>\n",
       "      <th>0</th>\n",
       "      <td>0</td>\n",
       "      <td>0.374255</td>\n",
       "    </tr>\n",
       "    <tr>\n",
       "      <th>1</th>\n",
       "      <td>0</td>\n",
       "      <td>0.496790</td>\n",
       "    </tr>\n",
       "    <tr>\n",
       "      <th>2</th>\n",
       "      <td>0</td>\n",
       "      <td>0.355900</td>\n",
       "    </tr>\n",
       "    <tr>\n",
       "      <th>3</th>\n",
       "      <td>0</td>\n",
       "      <td>0.431932</td>\n",
       "    </tr>\n",
       "    <tr>\n",
       "      <th>4</th>\n",
       "      <td>0</td>\n",
       "      <td>0.338533</td>\n",
       "    </tr>\n",
       "  </tbody>\n",
       "</table>\n",
       "</div>"
      ],
      "text/plain": [
       "   isFraud     score\n",
       "0        0  0.374255\n",
       "1        0  0.496790\n",
       "2        0  0.355900\n",
       "3        0  0.431932\n",
       "4        0  0.338533"
      ]
     },
     "execution_count": 38,
     "metadata": {},
     "output_type": "execute_result"
    }
   ],
   "source": [
    "score_vs_fraud.head()"
   ]
  },
  {
   "cell_type": "code",
   "execution_count": 43,
   "metadata": {},
   "outputs": [
    {
     "data": {
      "text/plain": [
       "<matplotlib.axes._subplots.AxesSubplot at 0x7fc3f4bc7780>"
      ]
     },
     "execution_count": 43,
     "metadata": {},
     "output_type": "execute_result"
    },
    {
     "data": {
      "image/png": "[encoded data removed]",
      "text/plain": [
       "<Figure size 432x288 with 1 Axes>"
      ]
     },
     "metadata": {},
     "output_type": "display_data"
    }
   ],
   "source": [
    "import matplotlib.pyplot as plt\n",
    "\n",
    "score_vs_fraud.plot(kind='scatter',x='isFraud',y='score')"
   ]
  },
  {
   "cell_type": "code",
   "execution_count": null,
   "metadata": {},
   "outputs": [],
   "source": []
  }
 ],
 "metadata": {
  "kernelspec": {
   "display_name": "conda_python3",
   "language": "python",
   "name": "conda_python3"
  },
  "language_info": {
   "codemirror_mode": {
    "name": "ipython",
    "version": 3
   },
   "file_extension": ".py",
   "mimetype": "text/x-python",
   "name": "python",
   "nbconvert_exporter": "python",
   "pygments_lexer": "ipython3",
   "version": "3.6.5"
  }
 },
 "nbformat": 4,
 "nbformat_minor": 2
}
