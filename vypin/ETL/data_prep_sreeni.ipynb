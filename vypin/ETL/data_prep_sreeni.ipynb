{
 "cells": [
  {
   "cell_type": "markdown",
   "metadata": {},
   "source": [
    "## GOAL\n",
    "\n",
    "Analyze financial transaction data to predit if a particular transaction data is fraudulent."
   ]
  },
  {
   "cell_type": "code",
   "execution_count": 118,
   "metadata": {},
   "outputs": [],
   "source": [
    "import boto3\n",
    "\n",
    "import numpy as np \n",
    "import pandas as pd\n",
    "import os\n",
    "from sklearn.utils import shuffle\n",
    "\n",
    "region = boto3.Session().region_name    \n",
    "\n",
    "bucket = 'anomaly-detection-team-vypin'                     \n",
    "prefix = 'sagemaker/talasila'"
   ]
  },
  {
   "cell_type": "markdown",
   "metadata": {},
   "source": [
    "---\n",
    "## DOWNLOAD"
   ]
  },
  {
   "cell_type": "code",
   "execution_count": 119,
   "metadata": {
    "scrolled": true
   },
   "outputs": [],
   "source": [
    "s3 = boto3.resource('s3')\n",
    "data_bucket = 'anomaly-detection-team-vypin'\n",
    "data_key = 'PS_20174392719_1491204439457_log.csv'\n",
    "s3.Bucket(data_bucket).download_file(data_key, 'input_data.csv')"
   ]
  },
  {
   "cell_type": "markdown",
   "metadata": {},
   "source": [
    "Read data into a pandas dataframe"
   ]
  },
  {
   "cell_type": "code",
   "execution_count": 120,
   "metadata": {
    "scrolled": true
   },
   "outputs": [
    {
     "data": {
      "text/html": [
       "<div>\n",
       "<style scoped>\n",
       "    .dataframe tbody tr th:only-of-type {\n",
       "        vertical-align: middle;\n",
       "    }\n",
       "\n",
       "    .dataframe tbody tr th {\n",
       "        vertical-align: top;\n",
       "    }\n",
       "\n",
       "    .dataframe thead th {\n",
       "        text-align: right;\n",
       "    }\n",
       "</style>\n",
       "<table border=\"1\" class=\"dataframe\">\n",
       "  <thead>\n",
       "    <tr style=\"text-align: right;\">\n",
       "      <th></th>\n",
       "      <th>step</th>\n",
       "      <th>type</th>\n",
       "      <th>amount</th>\n",
       "      <th>nameOrig</th>\n",
       "      <th>oldbalanceOrg</th>\n",
       "      <th>newbalanceOrig</th>\n",
       "      <th>nameDest</th>\n",
       "      <th>oldbalanceDest</th>\n",
       "      <th>newbalanceDest</th>\n",
       "      <th>isFraud</th>\n",
       "      <th>isFlaggedFraud</th>\n",
       "    </tr>\n",
       "  </thead>\n",
       "  <tbody>\n",
       "    <tr>\n",
       "      <th>0</th>\n",
       "      <td>1</td>\n",
       "      <td>PAYMENT</td>\n",
       "      <td>9839.64</td>\n",
       "      <td>C1231006815</td>\n",
       "      <td>170136.0</td>\n",
       "      <td>160296.36</td>\n",
       "      <td>M1979787155</td>\n",
       "      <td>0.0</td>\n",
       "      <td>0.0</td>\n",
       "      <td>0</td>\n",
       "      <td>0</td>\n",
       "    </tr>\n",
       "    <tr>\n",
       "      <th>1</th>\n",
       "      <td>1</td>\n",
       "      <td>PAYMENT</td>\n",
       "      <td>1864.28</td>\n",
       "      <td>C1666544295</td>\n",
       "      <td>21249.0</td>\n",
       "      <td>19384.72</td>\n",
       "      <td>M2044282225</td>\n",
       "      <td>0.0</td>\n",
       "      <td>0.0</td>\n",
       "      <td>0</td>\n",
       "      <td>0</td>\n",
       "    </tr>\n",
       "    <tr>\n",
       "      <th>2</th>\n",
       "      <td>1</td>\n",
       "      <td>TRANSFER</td>\n",
       "      <td>181.00</td>\n",
       "      <td>C1305486145</td>\n",
       "      <td>181.0</td>\n",
       "      <td>0.00</td>\n",
       "      <td>C553264065</td>\n",
       "      <td>0.0</td>\n",
       "      <td>0.0</td>\n",
       "      <td>1</td>\n",
       "      <td>0</td>\n",
       "    </tr>\n",
       "    <tr>\n",
       "      <th>3</th>\n",
       "      <td>1</td>\n",
       "      <td>CASH_OUT</td>\n",
       "      <td>181.00</td>\n",
       "      <td>C840083671</td>\n",
       "      <td>181.0</td>\n",
       "      <td>0.00</td>\n",
       "      <td>C38997010</td>\n",
       "      <td>21182.0</td>\n",
       "      <td>0.0</td>\n",
       "      <td>1</td>\n",
       "      <td>0</td>\n",
       "    </tr>\n",
       "    <tr>\n",
       "      <th>4</th>\n",
       "      <td>1</td>\n",
       "      <td>PAYMENT</td>\n",
       "      <td>11668.14</td>\n",
       "      <td>C2048537720</td>\n",
       "      <td>41554.0</td>\n",
       "      <td>29885.86</td>\n",
       "      <td>M1230701703</td>\n",
       "      <td>0.0</td>\n",
       "      <td>0.0</td>\n",
       "      <td>0</td>\n",
       "      <td>0</td>\n",
       "    </tr>\n",
       "  </tbody>\n",
       "</table>\n",
       "</div>"
      ],
      "text/plain": [
       "   step      type    amount     nameOrig  oldbalanceOrg  newbalanceOrig  \\\n",
       "0     1   PAYMENT   9839.64  C1231006815       170136.0       160296.36   \n",
       "1     1   PAYMENT   1864.28  C1666544295        21249.0        19384.72   \n",
       "2     1  TRANSFER    181.00  C1305486145          181.0            0.00   \n",
       "3     1  CASH_OUT    181.00   C840083671          181.0            0.00   \n",
       "4     1   PAYMENT  11668.14  C2048537720        41554.0        29885.86   \n",
       "\n",
       "      nameDest  oldbalanceDest  newbalanceDest  isFraud  isFlaggedFraud  \n",
       "0  M1979787155             0.0             0.0        0               0  \n",
       "1  M2044282225             0.0             0.0        0               0  \n",
       "2   C553264065             0.0             0.0        1               0  \n",
       "3    C38997010         21182.0             0.0        1               0  \n",
       "4  M1230701703             0.0             0.0        0               0  "
      ]
     },
     "execution_count": 120,
     "metadata": {},
     "output_type": "execute_result"
    }
   ],
   "source": [
    "df = pd.read_csv('./input_data.csv')\n",
    "df.head()"
   ]
  },
  {
   "cell_type": "markdown",
   "metadata": {},
   "source": [
    "---\n",
    "## Analysis"
   ]
  },
  {
   "cell_type": "markdown",
   "metadata": {},
   "source": [
    "bin transaction amounts into 50K range"
   ]
  },
  {
   "cell_type": "code",
   "execution_count": 121,
   "metadata": {},
   "outputs": [
    {
     "data": {
      "text/html": [
       "<div>\n",
       "<style scoped>\n",
       "    .dataframe tbody tr th:only-of-type {\n",
       "        vertical-align: middle;\n",
       "    }\n",
       "\n",
       "    .dataframe tbody tr th {\n",
       "        vertical-align: top;\n",
       "    }\n",
       "\n",
       "    .dataframe thead th {\n",
       "        text-align: right;\n",
       "    }\n",
       "</style>\n",
       "<table border=\"1\" class=\"dataframe\">\n",
       "  <thead>\n",
       "    <tr style=\"text-align: right;\">\n",
       "      <th></th>\n",
       "      <th>step</th>\n",
       "      <th>type</th>\n",
       "      <th>amount</th>\n",
       "      <th>nameOrig</th>\n",
       "      <th>oldbalanceOrg</th>\n",
       "      <th>newbalanceOrig</th>\n",
       "      <th>nameDest</th>\n",
       "      <th>oldbalanceDest</th>\n",
       "      <th>newbalanceDest</th>\n",
       "      <th>isFraud</th>\n",
       "      <th>isFlaggedFraud</th>\n",
       "      <th>binned</th>\n",
       "    </tr>\n",
       "  </thead>\n",
       "  <tbody>\n",
       "    <tr>\n",
       "      <th>0</th>\n",
       "      <td>1</td>\n",
       "      <td>PAYMENT</td>\n",
       "      <td>9839.64</td>\n",
       "      <td>C1231006815</td>\n",
       "      <td>170136.0</td>\n",
       "      <td>160296.36</td>\n",
       "      <td>M1979787155</td>\n",
       "      <td>0.0</td>\n",
       "      <td>0.0</td>\n",
       "      <td>0</td>\n",
       "      <td>0</td>\n",
       "      <td>0</td>\n",
       "    </tr>\n",
       "    <tr>\n",
       "      <th>1</th>\n",
       "      <td>1</td>\n",
       "      <td>PAYMENT</td>\n",
       "      <td>1864.28</td>\n",
       "      <td>C1666544295</td>\n",
       "      <td>21249.0</td>\n",
       "      <td>19384.72</td>\n",
       "      <td>M2044282225</td>\n",
       "      <td>0.0</td>\n",
       "      <td>0.0</td>\n",
       "      <td>0</td>\n",
       "      <td>0</td>\n",
       "      <td>0</td>\n",
       "    </tr>\n",
       "    <tr>\n",
       "      <th>2</th>\n",
       "      <td>1</td>\n",
       "      <td>TRANSFER</td>\n",
       "      <td>181.00</td>\n",
       "      <td>C1305486145</td>\n",
       "      <td>181.0</td>\n",
       "      <td>0.00</td>\n",
       "      <td>C553264065</td>\n",
       "      <td>0.0</td>\n",
       "      <td>0.0</td>\n",
       "      <td>1</td>\n",
       "      <td>0</td>\n",
       "      <td>0</td>\n",
       "    </tr>\n",
       "    <tr>\n",
       "      <th>3</th>\n",
       "      <td>1</td>\n",
       "      <td>CASH_OUT</td>\n",
       "      <td>181.00</td>\n",
       "      <td>C840083671</td>\n",
       "      <td>181.0</td>\n",
       "      <td>0.00</td>\n",
       "      <td>C38997010</td>\n",
       "      <td>21182.0</td>\n",
       "      <td>0.0</td>\n",
       "      <td>1</td>\n",
       "      <td>0</td>\n",
       "      <td>0</td>\n",
       "    </tr>\n",
       "    <tr>\n",
       "      <th>4</th>\n",
       "      <td>1</td>\n",
       "      <td>PAYMENT</td>\n",
       "      <td>11668.14</td>\n",
       "      <td>C2048537720</td>\n",
       "      <td>41554.0</td>\n",
       "      <td>29885.86</td>\n",
       "      <td>M1230701703</td>\n",
       "      <td>0.0</td>\n",
       "      <td>0.0</td>\n",
       "      <td>0</td>\n",
       "      <td>0</td>\n",
       "      <td>0</td>\n",
       "    </tr>\n",
       "  </tbody>\n",
       "</table>\n",
       "</div>"
      ],
      "text/plain": [
       "   step      type    amount     nameOrig  oldbalanceOrg  newbalanceOrig  \\\n",
       "0     1   PAYMENT   9839.64  C1231006815       170136.0       160296.36   \n",
       "1     1   PAYMENT   1864.28  C1666544295        21249.0        19384.72   \n",
       "2     1  TRANSFER    181.00  C1305486145          181.0            0.00   \n",
       "3     1  CASH_OUT    181.00   C840083671          181.0            0.00   \n",
       "4     1   PAYMENT  11668.14  C2048537720        41554.0        29885.86   \n",
       "\n",
       "      nameDest  oldbalanceDest  newbalanceDest  isFraud  isFlaggedFraud binned  \n",
       "0  M1979787155             0.0             0.0        0               0      0  \n",
       "1  M2044282225             0.0             0.0        0               0      0  \n",
       "2   C553264065             0.0             0.0        1               0      0  \n",
       "3    C38997010         21182.0             0.0        1               0      0  \n",
       "4  M1230701703             0.0             0.0        0               0      0  "
      ]
     },
     "execution_count": 121,
     "metadata": {},
     "output_type": "execute_result"
    }
   ],
   "source": [
    "# bin amounts into 50K range\n",
    "bins = range(0, 1000000, 50000)\n",
    "labels = range(0, 950000, 50000)\n",
    "df['binned'] = pd.cut(df['amount'], bins=bins, labels=labels)\n",
    "df.head()"
   ]
  },
  {
   "cell_type": "code",
   "execution_count": 122,
   "metadata": {},
   "outputs": [
    {
     "data": {
      "text/plain": [
       "<matplotlib.axes._subplots.AxesSubplot at 0x7f5ec52ddc18>"
      ]
     },
     "execution_count": 122,
     "metadata": {},
     "output_type": "execute_result"
    },
    {
     "data": {
      "image/png": "[encoded data removed]",
      "text/plain": [
       "<Figure size 720x360 with 1 Axes>"
      ]
     },
     "metadata": {},
     "output_type": "display_data"
    }
   ],
   "source": [
    "# analysis: set what percentage of tx in each bin is fraudulent\n",
    "\n",
    "#df[['amount']].plot(kind='hist',bins=bins,rwidth=0.8)\n",
    "adf1 = df['binned'].value_counts().to_frame('totalTx')\n",
    "adf1['bin'] = adf1.index\n",
    "\n",
    "fraud = df.loc[df['isFraud'] == 0].groupby(['binned']).size().to_frame('nonfraud')\n",
    "adf1 = adf1.join(fraud, lsuffix='', rsuffix='', sort=False)\n",
    "adf1['percentFraud'] = (adf1['totalTx'] - adf1['nonfraud'])/adf1['totalTx']\n",
    "\n",
    "adf1[['bin','percentFraud']].plot(kind='bar', title =\"fraud\", figsize=(10, 5), legend=True, fontsize=12)\n",
    "\n"
   ]
  },
  {
   "cell_type": "markdown",
   "metadata": {},
   "source": [
    "---\n",
    "## MUNGING"
   ]
  },
  {
   "cell_type": "code",
   "execution_count": 123,
   "metadata": {},
   "outputs": [
    {
     "data": {
      "text/html": [
       "<div>\n",
       "<style scoped>\n",
       "    .dataframe tbody tr th:only-of-type {\n",
       "        vertical-align: middle;\n",
       "    }\n",
       "\n",
       "    .dataframe tbody tr th {\n",
       "        vertical-align: top;\n",
       "    }\n",
       "\n",
       "    .dataframe thead th {\n",
       "        text-align: right;\n",
       "    }\n",
       "</style>\n",
       "<table border=\"1\" class=\"dataframe\">\n",
       "  <thead>\n",
       "    <tr style=\"text-align: right;\">\n",
       "      <th></th>\n",
       "      <th>step</th>\n",
       "      <th>amount</th>\n",
       "      <th>nameOrig</th>\n",
       "      <th>oldbalanceOrg</th>\n",
       "      <th>newbalanceOrig</th>\n",
       "      <th>nameDest</th>\n",
       "      <th>oldbalanceDest</th>\n",
       "      <th>newbalanceDest</th>\n",
       "      <th>isFraud</th>\n",
       "      <th>isFlaggedFraud</th>\n",
       "      <th>binned</th>\n",
       "      <th>type_CASH_IN</th>\n",
       "      <th>type_CASH_OUT</th>\n",
       "      <th>type_DEBIT</th>\n",
       "      <th>type_PAYMENT</th>\n",
       "      <th>type_TRANSFER</th>\n",
       "    </tr>\n",
       "  </thead>\n",
       "  <tbody>\n",
       "    <tr>\n",
       "      <th>2823775</th>\n",
       "      <td>226</td>\n",
       "      <td>48228.06</td>\n",
       "      <td>C1964435730</td>\n",
       "      <td>0.00</td>\n",
       "      <td>0.00</td>\n",
       "      <td>M213324882</td>\n",
       "      <td>0.00</td>\n",
       "      <td>0.00</td>\n",
       "      <td>0</td>\n",
       "      <td>0</td>\n",
       "      <td>0</td>\n",
       "      <td>0</td>\n",
       "      <td>0</td>\n",
       "      <td>0</td>\n",
       "      <td>1</td>\n",
       "      <td>0</td>\n",
       "    </tr>\n",
       "    <tr>\n",
       "      <th>1608649</th>\n",
       "      <td>156</td>\n",
       "      <td>440260.79</td>\n",
       "      <td>C1276427568</td>\n",
       "      <td>66620.18</td>\n",
       "      <td>506880.96</td>\n",
       "      <td>C355900651</td>\n",
       "      <td>1997242.17</td>\n",
       "      <td>1556981.38</td>\n",
       "      <td>0</td>\n",
       "      <td>0</td>\n",
       "      <td>400000</td>\n",
       "      <td>1</td>\n",
       "      <td>0</td>\n",
       "      <td>0</td>\n",
       "      <td>0</td>\n",
       "      <td>0</td>\n",
       "    </tr>\n",
       "    <tr>\n",
       "      <th>1157112</th>\n",
       "      <td>131</td>\n",
       "      <td>29246.23</td>\n",
       "      <td>C899934233</td>\n",
       "      <td>0.00</td>\n",
       "      <td>0.00</td>\n",
       "      <td>M298249173</td>\n",
       "      <td>0.00</td>\n",
       "      <td>0.00</td>\n",
       "      <td>0</td>\n",
       "      <td>0</td>\n",
       "      <td>0</td>\n",
       "      <td>0</td>\n",
       "      <td>0</td>\n",
       "      <td>0</td>\n",
       "      <td>1</td>\n",
       "      <td>0</td>\n",
       "    </tr>\n",
       "    <tr>\n",
       "      <th>4446368</th>\n",
       "      <td>323</td>\n",
       "      <td>52578.36</td>\n",
       "      <td>C2075189766</td>\n",
       "      <td>237242.44</td>\n",
       "      <td>184664.08</td>\n",
       "      <td>M1162028936</td>\n",
       "      <td>0.00</td>\n",
       "      <td>0.00</td>\n",
       "      <td>0</td>\n",
       "      <td>0</td>\n",
       "      <td>50000</td>\n",
       "      <td>0</td>\n",
       "      <td>0</td>\n",
       "      <td>0</td>\n",
       "      <td>1</td>\n",
       "      <td>0</td>\n",
       "    </tr>\n",
       "    <tr>\n",
       "      <th>3773646</th>\n",
       "      <td>280</td>\n",
       "      <td>16283.30</td>\n",
       "      <td>C706293451</td>\n",
       "      <td>0.00</td>\n",
       "      <td>0.00</td>\n",
       "      <td>M774614297</td>\n",
       "      <td>0.00</td>\n",
       "      <td>0.00</td>\n",
       "      <td>0</td>\n",
       "      <td>0</td>\n",
       "      <td>0</td>\n",
       "      <td>0</td>\n",
       "      <td>0</td>\n",
       "      <td>0</td>\n",
       "      <td>1</td>\n",
       "      <td>0</td>\n",
       "    </tr>\n",
       "  </tbody>\n",
       "</table>\n",
       "</div>"
      ],
      "text/plain": [
       "         step     amount     nameOrig  oldbalanceOrg  newbalanceOrig  \\\n",
       "2823775   226   48228.06  C1964435730           0.00            0.00   \n",
       "1608649   156  440260.79  C1276427568       66620.18       506880.96   \n",
       "1157112   131   29246.23   C899934233           0.00            0.00   \n",
       "4446368   323   52578.36  C2075189766      237242.44       184664.08   \n",
       "3773646   280   16283.30   C706293451           0.00            0.00   \n",
       "\n",
       "            nameDest  oldbalanceDest  newbalanceDest  isFraud  isFlaggedFraud  \\\n",
       "2823775   M213324882            0.00            0.00        0               0   \n",
       "1608649   C355900651      1997242.17      1556981.38        0               0   \n",
       "1157112   M298249173            0.00            0.00        0               0   \n",
       "4446368  M1162028936            0.00            0.00        0               0   \n",
       "3773646   M774614297            0.00            0.00        0               0   \n",
       "\n",
       "         binned  type_CASH_IN  type_CASH_OUT  type_DEBIT  type_PAYMENT  \\\n",
       "2823775       0             0              0           0             1   \n",
       "1608649  400000             1              0           0             0   \n",
       "1157112       0             0              0           0             1   \n",
       "4446368   50000             0              0           0             1   \n",
       "3773646       0             0              0           0             1   \n",
       "\n",
       "         type_TRANSFER  \n",
       "2823775              0  \n",
       "1608649              0  \n",
       "1157112              0  \n",
       "4446368              0  \n",
       "3773646              0  "
      ]
     },
     "execution_count": 123,
     "metadata": {},
     "output_type": "execute_result"
    }
   ],
   "source": [
    "df = pd.get_dummies(df, prefix=None, prefix_sep='_', dummy_na=False, columns=['type'])\n",
    "df = shuffle(df)\n",
    "df.head()"
   ]
  },
  {
   "cell_type": "markdown",
   "metadata": {},
   "source": [
    "Split data into the training, test and validation sets"
   ]
  },
  {
   "cell_type": "code",
   "execution_count": 125,
   "metadata": {},
   "outputs": [],
   "source": [
    "train_data, validation_data, test_data = np.split(df.sample(frac=1, random_state=1729), [int(0.7 * len(model_data)), int(0.9*len(model_data))])  \n",
    "\n",
    "train_data.to_csv('train_actual.csv', index=True, header=True)\n",
    "validation_data.to_csv('validation_actual.csv', index=True, header=True)\n",
    "test_data.to_csv('test_actual.csv', index=True, header=True)\n",
    "\n",
    "train_data_munged = train_data.drop(['nameOrig', 'nameDest', 'binned', 'isFraud', 'isFlaggedFraud'], axis=1)\n",
    "validation_data_munged = validation_data.drop(['nameOrig', 'nameDest', 'binned', 'isFraud', 'isFlaggedFraud'], axis=1)\n",
    "test_data_munged = test_data.drop(['nameOrig', 'nameDest', 'binned', 'isFraud', 'isFlaggedFraud'], axis=1)\n",
    "\n",
    "train_data_munged.to_csv('train_munged.csv', index=False, header=False)\n",
    "validation_data_munged.to_csv('validation_munged.csv', index=False, header=False)\n",
    "test_data_munged.to_csv('test_munged.csv', index=False, header=False)"
   ]
  },
  {
   "cell_type": "markdown",
   "metadata": {},
   "source": [
    "Copy to S3"
   ]
  },
  {
   "cell_type": "code",
   "execution_count": 126,
   "metadata": {},
   "outputs": [],
   "source": [
    "boto3.Session().resource('s3').Bucket(bucket).Object(os.path.join(prefix, 'train/train_actual.csv')).upload_file('train_actual.csv')\n",
    "boto3.Session().resource('s3').Bucket(bucket).Object(os.path.join(prefix, 'validation/validation_actual.csv')).upload_file('validation_actual.csv')\n",
    "\n",
    "boto3.Session().resource('s3').Bucket(bucket).Object(os.path.join(prefix, 'train/train_munged.csv')).upload_file('train_munged.csv')\n",
    "boto3.Session().resource('s3').Bucket(bucket).Object(os.path.join(prefix, 'validation/validation_munged.csv')).upload_file('validation_munged.csv')"
   ]
  },
  {
   "cell_type": "markdown",
   "metadata": {},
   "source": [
    "---\n",
    "## Training"
   ]
  },
  {
   "cell_type": "code",
   "execution_count": 128,
   "metadata": {},
   "outputs": [
    {
     "name": "stderr",
     "output_type": "stream",
     "text": [
      "INFO:sagemaker:Creating training-job with name: randomcutforest-2019-03-07-17-54-29-240\n"
     ]
    },
    {
     "name": "stdout",
     "output_type": "stream",
     "text": [
      "2019-03-07 17:54:29 Starting - Starting the training job...\n",
      "2019-03-07 17:54:30 Starting - Launching requested ML instances......\n",
      "2019-03-07 17:55:41 Starting - Preparing the instances for training...\n",
      "2019-03-07 17:56:26 Downloading - Downloading input data\n",
      "2019-03-07 17:56:26 Training - Downloading the training image......\n",
      "2019-03-07 17:57:26 Uploading - Uploading generated training model\n",
      "\u001b[31mDocker entrypoint called with argument(s): train\u001b[0m\n",
      "\u001b[31m[03/07/2019 17:57:18 INFO 140466286872384] Reading default configuration from /opt/amazon/lib/python2.7/site-packages/algorithm/resources/default-conf.json: {u'_ftp_port': 8999, u'num_samples_per_tree': 256, u'_tuning_objective_metric': u'', u'_num_gpus': u'auto', u'_log_level': u'info', u'_kvstore': u'dist_async', u'force_dense': u'true', u'epochs': 1, u'num_trees': 100, u'eval_metrics': [u'accuracy', u'precision_recall_fscore'], u'_num_kv_servers': u'auto', u'mini_batch_size': 1000}\u001b[0m\n",
      "\u001b[31m[03/07/2019 17:57:18 INFO 140466286872384] Reading provided configuration from /opt/ml/input/config/hyperparameters.json: {u'mini_batch_size': u'1000', u'feature_dim': u'11', u'num_samples_per_tree': u'512', u'num_trees': u'50'}\u001b[0m\n",
      "\u001b[31m[03/07/2019 17:57:18 INFO 140466286872384] Final configuration: {u'_ftp_port': 8999, u'num_samples_per_tree': u'512', u'_tuning_objective_metric': u'', u'_num_gpus': u'auto', u'_log_level': u'info', u'_kvstore': u'dist_async', u'force_dense': u'true', u'epochs': 1, u'feature_dim': u'11', u'num_trees': u'50', u'eval_metrics': [u'accuracy', u'precision_recall_fscore'], u'_num_kv_servers': u'auto', u'mini_batch_size': u'1000'}\u001b[0m\n",
      "\u001b[31m[03/07/2019 17:57:18 WARNING 140466286872384] Loggers have already been setup.\u001b[0m\n",
      "\u001b[31m[03/07/2019 17:57:18 INFO 140466286872384] Launching parameter server for role scheduler\u001b[0m\n",
      "\u001b[31m[03/07/2019 17:57:18 INFO 140466286872384] {'ECS_CONTAINER_METADATA_URI': 'http://169.254.170.2/v3/3fd63619-f344-411a-aa9b-2f43295b382b', 'PROTOCOL_BUFFERS_PYTHON_IMPLEMENTATION_VERSION': '2', 'PATH': '/opt/amazon/bin:/usr/local/nvidia/bin:/usr/local/sbin:/usr/local/bin:/usr/sbin:/usr/bin:/sbin:/bin:/opt/amazon/bin:/opt/amazon/bin', 'SAGEMAKER_HTTP_PORT': '8080', 'HOME': '/root', 'PYTHONUNBUFFERED': 'TRUE', 'CANONICAL_ENVROOT': '/opt/amazon', 'LD_LIBRARY_PATH': '/opt/amazon/lib/python2.7/site-packages/cv2/../../../../lib:/usr/local/nvidia/lib64:/opt/amazon/lib', 'MXNET_KVSTORE_BIGARRAY_BOUND': '400000000', 'LANG': 'en_US.utf8', 'DMLC_INTERFACE': 'ethwe', 'SHLVL': '1', 'AWS_REGION': 'us-east-1', 'NVIDIA_VISIBLE_DEVICES': 'all', 'TRAINING_JOB_NAME': 'randomcutforest-2019-03-07-17-54-29-240', 'PROTOCOL_BUFFERS_PYTHON_IMPLEMENTATION': 'cpp', 'ENVROOT': '/opt/amazon', 'SAGEMAKER_DATA_PATH': '/opt/ml', 'NVIDIA_DRIVER_CAPABILITIES': 'compute,utility', 'NVIDIA_REQUIRE_CUDA': 'cuda>=9.0', 'OMP_NUM_THREADS': '24', 'HOSTNAME': 'aws', 'AWS_CONTAINER_CREDENTIALS_RELATIVE_URI': '/v2/credentials/591a61f9-7055-4ffc-af59-11deaa2f1123', 'PWD': '/', 'AWS_EXECUTION_ENV': 'AWS_ECS_EC2'}\u001b[0m\n",
      "\u001b[31m[03/07/2019 17:57:18 INFO 140466286872384] envs={'ECS_CONTAINER_METADATA_URI': 'http://169.254.170.2/v3/3fd63619-f344-411a-aa9b-2f43295b382b', 'PROTOCOL_BUFFERS_PYTHON_IMPLEMENTATION_VERSION': '2', 'DMLC_NUM_WORKER': '1', 'DMLC_PS_ROOT_PORT': '9000', 'PATH': '/opt/amazon/bin:/usr/local/nvidia/bin:/usr/local/sbin:/usr/local/bin:/usr/sbin:/usr/bin:/sbin:/bin:/opt/amazon/bin:/opt/amazon/bin', 'SAGEMAKER_HTTP_PORT': '8080', 'HOME': '/root', 'PYTHONUNBUFFERED': 'TRUE', 'CANONICAL_ENVROOT': '/opt/amazon', 'LD_LIBRARY_PATH': '/opt/amazon/lib/python2.7/site-packages/cv2/../../../../lib:/usr/local/nvidia/lib64:/opt/amazon/lib', 'MXNET_KVSTORE_BIGARRAY_BOUND': '400000000', 'LANG': 'en_US.utf8', 'DMLC_INTERFACE': 'ethwe', 'SHLVL': '1', 'DMLC_PS_ROOT_URI': '10.32.0.5', 'AWS_REGION': 'us-east-1', 'NVIDIA_VISIBLE_DEVICES': 'all', 'TRAINING_JOB_NAME': 'randomcutforest-2019-03-07-17-54-29-240', 'PROTOCOL_BUFFERS_PYTHON_IMPLEMENTATION': 'cpp', 'ENVROOT': '/opt/amazon', 'SAGEMAKER_DATA_PATH': '/opt/ml', 'NVIDIA_DRIVER_CAPABILITIES': 'compute,utility', 'NVIDIA_REQUIRE_CUDA': 'cuda>=9.0', 'OMP_NUM_THREADS': '24', 'HOSTNAME': 'aws', 'AWS_CONTAINER_CREDENTIALS_RELATIVE_URI': '/v2/credentials/591a61f9-7055-4ffc-af59-11deaa2f1123', 'DMLC_ROLE': 'scheduler', 'PWD': '/', 'DMLC_NUM_SERVER': '1', 'AWS_EXECUTION_ENV': 'AWS_ECS_EC2'}\u001b[0m\n",
      "\u001b[31m[03/07/2019 17:57:18 INFO 140466286872384] Launching parameter server for role server\u001b[0m\n",
      "\u001b[31m[03/07/2019 17:57:18 INFO 140466286872384] {'ECS_CONTAINER_METADATA_URI': 'http://169.254.170.2/v3/3fd63619-f344-411a-aa9b-2f43295b382b', 'PROTOCOL_BUFFERS_PYTHON_IMPLEMENTATION_VERSION': '2', 'PATH': '/opt/amazon/bin:/usr/local/nvidia/bin:/usr/local/sbin:/usr/local/bin:/usr/sbin:/usr/bin:/sbin:/bin:/opt/amazon/bin:/opt/amazon/bin', 'SAGEMAKER_HTTP_PORT': '8080', 'HOME': '/root', 'PYTHONUNBUFFERED': 'TRUE', 'CANONICAL_ENVROOT': '/opt/amazon', 'LD_LIBRARY_PATH': '/opt/amazon/lib/python2.7/site-packages/cv2/../../../../lib:/usr/local/nvidia/lib64:/opt/amazon/lib', 'MXNET_KVSTORE_BIGARRAY_BOUND': '400000000', 'LANG': 'en_US.utf8', 'DMLC_INTERFACE': 'ethwe', 'SHLVL': '1', 'AWS_REGION': 'us-east-1', 'NVIDIA_VISIBLE_DEVICES': 'all', 'TRAINING_JOB_NAME': 'randomcutforest-2019-03-07-17-54-29-240', 'PROTOCOL_BUFFERS_PYTHON_IMPLEMENTATION': 'cpp', 'ENVROOT': '/opt/amazon', 'SAGEMAKER_DATA_PATH': '/opt/ml', 'NVIDIA_DRIVER_CAPABILITIES': 'compute,utility', 'NVIDIA_REQUIRE_CUDA': 'cuda>=9.0', 'OMP_NUM_THREADS': '24', 'HOSTNAME': 'aws', 'AWS_CONTAINER_CREDENTIALS_RELATIVE_URI': '/v2/credentials/591a61f9-7055-4ffc-af59-11deaa2f1123', 'PWD': '/', 'AWS_EXECUTION_ENV': 'AWS_ECS_EC2'}\u001b[0m\n",
      "\u001b[31m[03/07/2019 17:57:18 INFO 140466286872384] envs={'ECS_CONTAINER_METADATA_URI': 'http://169.254.170.2/v3/3fd63619-f344-411a-aa9b-2f43295b382b', 'PROTOCOL_BUFFERS_PYTHON_IMPLEMENTATION_VERSION': '2', 'DMLC_NUM_WORKER': '1', 'DMLC_PS_ROOT_PORT': '9000', 'PATH': '/opt/amazon/bin:/usr/local/nvidia/bin:/usr/local/sbin:/usr/local/bin:/usr/sbin:/usr/bin:/sbin:/bin:/opt/amazon/bin:/opt/amazon/bin', 'SAGEMAKER_HTTP_PORT': '8080', 'HOME': '/root', 'PYTHONUNBUFFERED': 'TRUE', 'CANONICAL_ENVROOT': '/opt/amazon', 'LD_LIBRARY_PATH': '/opt/amazon/lib/python2.7/site-packages/cv2/../../../../lib:/usr/local/nvidia/lib64:/opt/amazon/lib', 'MXNET_KVSTORE_BIGARRAY_BOUND': '400000000', 'LANG': 'en_US.utf8', 'DMLC_INTERFACE': 'ethwe', 'SHLVL': '1', 'DMLC_PS_ROOT_URI': '10.32.0.5', 'AWS_REGION': 'us-east-1', 'NVIDIA_VISIBLE_DEVICES': 'all', 'TRAINING_JOB_NAME': 'randomcutforest-2019-03-07-17-54-29-240', 'PROTOCOL_BUFFERS_PYTHON_IMPLEMENTATION': 'cpp', 'ENVROOT': '/opt/amazon', 'SAGEMAKER_DATA_PATH': '/opt/ml', 'NVIDIA_DRIVER_CAPABILITIES': 'compute,utility', 'NVIDIA_REQUIRE_CUDA': 'cuda>=9.0', 'OMP_NUM_THREADS': '24', 'HOSTNAME': 'aws', 'AWS_CONTAINER_CREDENTIALS_RELATIVE_URI': '/v2/credentials/591a61f9-7055-4ffc-af59-11deaa2f1123', 'DMLC_ROLE': 'server', 'PWD': '/', 'DMLC_NUM_SERVER': '1', 'AWS_EXECUTION_ENV': 'AWS_ECS_EC2'}\u001b[0m\n",
      "\u001b[31m[03/07/2019 17:57:18 INFO 140466286872384] Environment: {'ECS_CONTAINER_METADATA_URI': 'http://169.254.170.2/v3/3fd63619-f344-411a-aa9b-2f43295b382b', 'PROTOCOL_BUFFERS_PYTHON_IMPLEMENTATION_VERSION': '2', 'DMLC_PS_ROOT_PORT': '9000', 'DMLC_NUM_WORKER': '1', 'SAGEMAKER_HTTP_PORT': '8080', 'PATH': '/opt/amazon/bin:/usr/local/nvidia/bin:/usr/local/sbin:/usr/local/bin:/usr/sbin:/usr/bin:/sbin:/bin:/opt/amazon/bin:/opt/amazon/bin', 'PYTHONUNBUFFERED': 'TRUE', 'CANONICAL_ENVROOT': '/opt/amazon', 'LD_LIBRARY_PATH': '/opt/amazon/lib/python2.7/site-packages/cv2/../../../../lib:/usr/local/nvidia/lib64:/opt/amazon/lib', 'MXNET_KVSTORE_BIGARRAY_BOUND': '400000000', 'LANG': 'en_US.utf8', 'DMLC_INTERFACE': 'ethwe', 'SHLVL': '1', 'DMLC_PS_ROOT_URI': '10.32.0.5', 'AWS_REGION': 'us-east-1', 'NVIDIA_VISIBLE_DEVICES': 'all', 'TRAINING_JOB_NAME': 'randomcutforest-2019-03-07-17-54-29-240', 'HOME': '/root', 'PROTOCOL_BUFFERS_PYTHON_IMPLEMENTATION': 'cpp', 'ENVROOT': '/opt/amazon', 'SAGEMAKER_DATA_PATH': '/opt/ml', 'NVIDIA_DRIVER_CAPABILITIES': 'compute,utility', 'NVIDIA_REQUIRE_CUDA': 'cuda>=9.0', 'OMP_NUM_THREADS': '24', 'HOSTNAME': 'aws', 'AWS_CONTAINER_CREDENTIALS_RELATIVE_URI': '/v2/credentials/591a61f9-7055-4ffc-af59-11deaa2f1123', 'DMLC_ROLE': 'worker', 'PWD': '/', 'DMLC_NUM_SERVER': '1', 'AWS_EXECUTION_ENV': 'AWS_ECS_EC2'}\u001b[0m\n",
      "\u001b[31mProcess 81 is a shell:scheduler.\u001b[0m\n",
      "\u001b[31mProcess 83 is a shell:server.\u001b[0m\n",
      "\u001b[31mProcess 1 is a worker.\u001b[0m\n",
      "\u001b[31m[03/07/2019 17:57:18 INFO 140466286872384] Using default worker.\u001b[0m\n",
      "\u001b[31m[03/07/2019 17:57:18 INFO 140466286872384] Loaded iterator creator application/x-recordio-protobuf for content type ('application/x-recordio-protobuf', '1.0')\u001b[0m\n",
      "\u001b[31m[03/07/2019 17:57:18 INFO 140466286872384] Verifying hyperparamemters...\u001b[0m\n",
      "\u001b[31m[03/07/2019 17:57:18 INFO 140466286872384] Hyperparameters are correct.\u001b[0m\n",
      "\u001b[31m[03/07/2019 17:57:18 INFO 140466286872384] Validating that feature_dim agrees with dimensions in training data...\u001b[0m\n",
      "\u001b[31m[03/07/2019 17:57:18 INFO 140466286872384] feature_dim is correct.\u001b[0m\n",
      "\u001b[31m[03/07/2019 17:57:18 INFO 140466286872384] Validating memory limits...\u001b[0m\n",
      "\u001b[31m[03/07/2019 17:57:18 INFO 140466286872384] Available memory in bytes: 195123605504\u001b[0m\n",
      "\u001b[31m[03/07/2019 17:57:18 INFO 140466286872384] Estimated sample size in bytes: 4505600\u001b[0m\n",
      "\u001b[31m[03/07/2019 17:57:18 INFO 140466286872384] Estimated memory needed to build the forest in bytes: 11264000\u001b[0m\n",
      "\u001b[31m[03/07/2019 17:57:18 INFO 140466286872384] Memory limits validated.\u001b[0m\n",
      "\u001b[31m[03/07/2019 17:57:18 INFO 140466286872384] Starting cluster sharing facilities...\u001b[0m\n",
      "\u001b[31m[03/07/2019 17:57:18 INFO 140464950839040] >>> starting FTP server on 0.0.0.0:8999, pid=1 <<<\u001b[0m\n",
      "\u001b[31m[03/07/2019 17:57:18 INFO 140464950839040] poller: <class 'pyftpdlib.ioloop.Epoll'>\u001b[0m\n",
      "\u001b[31m[03/07/2019 17:57:18 INFO 140464950839040] masquerade (NAT) address: None\u001b[0m\n",
      "\u001b[31m[03/07/2019 17:57:18 INFO 140464950839040] passive ports: None\u001b[0m\n",
      "\u001b[31m[I 19-03-07 17:57:18] >>> starting FTP server on 0.0.0.0:8999, pid=1 <<<\u001b[0m\n",
      "\u001b[31m[I 19-03-07 17:57:18] poller: <class 'pyftpdlib.ioloop.Epoll'>\u001b[0m\n",
      "\u001b[31m[I 19-03-07 17:57:18] masquerade (NAT) address: None\u001b[0m\n",
      "\u001b[31m[I 19-03-07 17:57:18] passive ports: None\u001b[0m\n",
      "\u001b[31m[I 19-03-07 17:57:18] use sendfile(2): False\u001b[0m\n",
      "\u001b[31m[03/07/2019 17:57:18 INFO 140464950839040] use sendfile(2): False\u001b[0m\n",
      "\u001b[31m[03/07/2019 17:57:18 INFO 140466286872384] Create Store: dist_async\u001b[0m\n",
      "\u001b[31m[03/07/2019 17:57:19 INFO 140466286872384] Cluster sharing facilities started.\u001b[0m\n",
      "\u001b[31m[03/07/2019 17:57:19 INFO 140466286872384] Verifying all workers are accessible...\u001b[0m\n",
      "\u001b[31m[03/07/2019 17:57:19 INFO 140466286872384] All workers accessible.\u001b[0m\n",
      "\u001b[31m[03/07/2019 17:57:19 INFO 140466286872384] Initializing Sampler...\u001b[0m\n",
      "\u001b[31m[03/07/2019 17:57:19 INFO 140466286872384] Sampler correctly initialized.\u001b[0m\n",
      "\u001b[31m#metrics {\"Metrics\": {\"initialize.time\": {\"count\": 1, \"max\": 1276.9129276275635, \"sum\": 1276.9129276275635, \"min\": 1276.9129276275635}}, \"EndTime\": 1551981439.36725, \"Dimensions\": {\"Host\": \"algo-1\", \"Operation\": \"training\", \"Algorithm\": \"RandomCutForest\"}, \"StartTime\": 1551981438.082411}\n",
      "\u001b[0m\n",
      "\u001b[31m#metrics {\"Metrics\": {\"Max Batches Seen Between Resets\": {\"count\": 1, \"max\": 0, \"sum\": 0.0, \"min\": 0}, \"Number of Batches Since Last Reset\": {\"count\": 1, \"max\": 0, \"sum\": 0.0, \"min\": 0}, \"Number of Records Since Last Reset\": {\"count\": 1, \"max\": 0, \"sum\": 0.0, \"min\": 0}, \"Total Batches Seen\": {\"count\": 1, \"max\": 0, \"sum\": 0.0, \"min\": 0}, \"Total Records Seen\": {\"count\": 1, \"max\": 0, \"sum\": 0.0, \"min\": 0}, \"Max Records Seen Between Resets\": {\"count\": 1, \"max\": 0, \"sum\": 0.0, \"min\": 0}, \"Reset Count\": {\"count\": 1, \"max\": 0, \"sum\": 0.0, \"min\": 0}}, \"EndTime\": 1551981439.367395, \"Dimensions\": {\"Host\": \"algo-1\", \"Meta\": \"init_train_data_iter\", \"Operation\": \"training\", \"Algorithm\": \"RandomCutForest\"}, \"StartTime\": 1551981439.367369}\n",
      "\u001b[0m\n",
      "\u001b[31m[2019-03-07 17:57:19.378] [tensorio] [info] epoch_stats={\"data_pipeline\": \"/opt/ml/input/data/train\", \"epoch\": 0, \"duration\": 1295, \"num_examples\": 1, \"num_bytes\": 112000}\u001b[0m\n",
      "\u001b[31m[03/07/2019 17:57:19 INFO 140466286872384] Sampling training data...\u001b[0m\n"
     ]
    },
    {
     "name": "stdout",
     "output_type": "stream",
     "text": [
      "\u001b[31m[2019-03-07 17:57:24.779] [tensorio] [info] epoch_stats={\"data_pipeline\": \"/opt/ml/input/data/train\", \"epoch\": 1, \"duration\": 5400, \"num_examples\": 4454, \"num_bytes\": 498829296}\u001b[0m\n",
      "\u001b[31m[03/07/2019 17:57:24 INFO 140466286872384] Sampling training data completed.\u001b[0m\n",
      "\u001b[31m#metrics {\"Metrics\": {\"epochs\": {\"count\": 1, \"max\": 1, \"sum\": 1.0, \"min\": 1}, \"update.time\": {\"count\": 1, \"max\": 5410.279035568237, \"sum\": 5410.279035568237, \"min\": 5410.279035568237}}, \"EndTime\": 1551981444.788623, \"Dimensions\": {\"Host\": \"algo-1\", \"Operation\": \"training\", \"Algorithm\": \"RandomCutForest\"}, \"StartTime\": 1551981439.367329}\n",
      "\u001b[0m\n",
      "\u001b[31m[03/07/2019 17:57:24 INFO 140466286872384] Early stop condition met. Stopping training.\u001b[0m\n",
      "\u001b[31m[03/07/2019 17:57:24 INFO 140466286872384] #progress_metric: host=algo-1, completed 100 % epochs\u001b[0m\n",
      "\u001b[31m#metrics {\"Metrics\": {\"Max Batches Seen Between Resets\": {\"count\": 1, \"max\": 4454, \"sum\": 4454.0, \"min\": 4454}, \"Number of Batches Since Last Reset\": {\"count\": 1, \"max\": 4454, \"sum\": 4454.0, \"min\": 4454}, \"Number of Records Since Last Reset\": {\"count\": 1, \"max\": 4453833, \"sum\": 4453833.0, \"min\": 4453833}, \"Total Batches Seen\": {\"count\": 1, \"max\": 4454, \"sum\": 4454.0, \"min\": 4454}, \"Total Records Seen\": {\"count\": 1, \"max\": 4453833, \"sum\": 4453833.0, \"min\": 4453833}, \"Max Records Seen Between Resets\": {\"count\": 1, \"max\": 4453833, \"sum\": 4453833.0, \"min\": 4453833}, \"Reset Count\": {\"count\": 1, \"max\": 1, \"sum\": 1.0, \"min\": 1}}, \"EndTime\": 1551981444.788858, \"Dimensions\": {\"Host\": \"algo-1\", \"Meta\": \"training_data_iter\", \"Operation\": \"training\", \"Algorithm\": \"RandomCutForest\", \"epoch\": 0}, \"StartTime\": 1551981439.378315}\n",
      "\u001b[0m\n",
      "\u001b[31m[03/07/2019 17:57:24 INFO 140466286872384] #throughput_metric: host=algo-1, train throughput=823161.773403 records/second\u001b[0m\n",
      "\u001b[31m[03/07/2019 17:57:24 INFO 140466286872384] Master node: building Random Cut Forest...\u001b[0m\n",
      "\u001b[31m[03/07/2019 17:57:24 INFO 140466286872384] Gathering samples...\u001b[0m\n",
      "\u001b[31m[03/07/2019 17:57:24 INFO 140466286872384] Samples gathered\u001b[0m\n",
      "\u001b[31m[03/07/2019 17:57:24 INFO 140466286872384] Building Random Cut Forest...\u001b[0m\n",
      "\u001b[31m[03/07/2019 17:57:24 INFO 140466286872384] Random Cut Forest built: \n",
      "\u001b[0m\n",
      "\u001b[31mForestInfo{num_trees: 50, num_samples_in_forest: 25600, num_samples_per_tree: 512, sample_dim: 11, shingle_size: 1, trees_num_nodes: [1023, 1023, 1023, 1023, 1023, 1023, 1023, 1023, 1023, 1023, 1023, 1023, 1023, 1023, 1023, 1023, 1021, 1021, 1023, 1023, 1023, 1023, 1023, 1023, 1023, 1023, 1023, 1023, 1023, 1023, 1023, 1023, 1023, 1023, 1023, 1023, 1023, 1023, 1023, 1023, 1023, 1021, 1023, 1023, 1023, 1023, 1023, 1023, 1023, 1023, ], trees_depth: [34, 41, 37, 34, 36, 38, 41, 39, 38, 33, 40, 37, 42, 34, 34, 38, 32, 36, 33, 40, 37, 50, 32, 39, 33, 40, 32, 33, 34, 33, 34, 39, 30, 28, 30, 40, 33, 41, 35, 34, 30, 32, 33, 47, 33, 39, 29, 37, 34, 33, ], max_num_nodes: 1023, min_num_nodes: 1021, avg_num_nodes: 1022, max_tree_depth: 50, min_tree_depth: 28, avg_tree_depth: 35, mem_size: 13502464}\u001b[0m\n",
      "\u001b[31m#metrics {\"Metrics\": {\"finalize.time\": {\"count\": 1, \"max\": 49.226999282836914, \"sum\": 49.226999282836914, \"min\": 49.226999282836914}, \"model.bytes\": {\"count\": 1, \"max\": 13502464, \"sum\": 13502464.0, \"min\": 13502464}, \"fit_model.time\": {\"count\": 1, \"max\": 20.143985748291016, \"sum\": 20.143985748291016, \"min\": 20.143985748291016}}, \"EndTime\": 1551981444.838272, \"Dimensions\": {\"Host\": \"algo-1\", \"Operation\": \"training\", \"Algorithm\": \"RandomCutForest\"}, \"StartTime\": 1551981444.788686}\n",
      "\u001b[0m\n",
      "\u001b[31m[03/07/2019 17:57:24 INFO 140466286872384] Master node: Serializing the RandomCutForest model\u001b[0m\n",
      "\u001b[31m#metrics {\"Metrics\": {\"serialize_model.time\": {\"count\": 1, \"max\": 130.39088249206543, \"sum\": 130.39088249206543, \"min\": 130.39088249206543}}, \"EndTime\": 1551981444.968759, \"Dimensions\": {\"Host\": \"algo-1\", \"Operation\": \"training\", \"Algorithm\": \"RandomCutForest\"}, \"StartTime\": 1551981444.838335}\n",
      "\u001b[0m\n",
      "\u001b[31m[03/07/2019 17:57:24 INFO 140466286872384] Test data is not provided.\u001b[0m\n",
      "\u001b[31m[I 19-03-07 17:57:25] >>> shutting down FTP server (0 active fds) <<<\u001b[0m\n",
      "\u001b[31m[03/07/2019 17:57:25 INFO 140464950839040] >>> shutting down FTP server (0 active fds) <<<\u001b[0m\n",
      "\u001b[31m#metrics {\"Metrics\": {\"totaltime\": {\"count\": 1, \"max\": 7158.143997192383, \"sum\": 7158.143997192383, \"min\": 7158.143997192383}, \"setuptime\": {\"count\": 1, \"max\": 142.3790454864502, \"sum\": 142.3790454864502, \"min\": 142.3790454864502}}, \"EndTime\": 1551981445.074055, \"Dimensions\": {\"Host\": \"algo-1\", \"Operation\": \"training\", \"Algorithm\": \"RandomCutForest\"}, \"StartTime\": 1551981444.968806}\n",
      "\u001b[0m\n",
      "\n",
      "2019-03-07 17:57:33 Completed - Training job completed\n",
      "Billable seconds: 83\n"
     ]
    }
   ],
   "source": [
    "import sagemaker\n",
    "import boto3\n",
    "from sagemaker.tuner import IntegerParameter, CategoricalParameter, ContinuousParameter, HyperparameterTuner\n",
    "from sagemaker import RandomCutForest\n",
    "import pandas as pd\n",
    "\n",
    "smclient = boto3.Session().client('sagemaker')\n",
    "role = sagemaker.get_execution_role()\n",
    "session = sagemaker.Session()\n",
    "bucket = 'anomaly-detection-team-vypin'                     \n",
    "prefix = 'sagemaker/talasila'\n",
    "\n",
    "# specify general training job information\n",
    "rcf = RandomCutForest(role=role,\n",
    "                      train_instance_count=1,\n",
    "                      train_instance_type='ml.m5.12xlarge',\n",
    "                      data_location='s3://{}/{}/train/train_munged.csv'.format(bucket, prefix),\n",
    "                      output_path='s3://{}/{}/output'.format(bucket, prefix),\n",
    "                      num_samples_per_tree=512,\n",
    "                      num_trees=50)\n",
    "\n",
    "train_data = pd.read_csv('s3://{}/{}/train/train_munged.csv'.format(bucket, prefix))\n",
    "\n",
    "# run the training job on input data stored in S3\n",
    "rcf.fit(rcf.record_set(train_data.as_matrix()))\n"
   ]
  },
  {
   "cell_type": "markdown",
   "metadata": {},
   "source": [
    "---\n",
    "## Inference\n",
    "\n",
    "Run inference for a small sample to test."
   ]
  },
  {
   "cell_type": "code",
   "execution_count": 129,
   "metadata": {},
   "outputs": [
    {
     "name": "stderr",
     "output_type": "stream",
     "text": [
      "INFO:sagemaker:Creating model with name: randomcutforest-2019-03-07-18-00-29-472\n",
      "INFO:sagemaker:Creating endpoint with name randomcutforest-2019-03-07-17-54-29-240\n"
     ]
    },
    {
     "name": "stdout",
     "output_type": "stream",
     "text": [
      "-------------------------------------------------------------------------!"
     ]
    }
   ],
   "source": [
    "rcf_inference = rcf.deploy(\n",
    "    initial_instance_count=1,\n",
    "    instance_type='ml.m4.xlarge',\n",
    ")"
   ]
  },
  {
   "cell_type": "code",
   "execution_count": 130,
   "metadata": {},
   "outputs": [],
   "source": [
    "from sagemaker.predictor import csv_serializer, json_deserializer\n",
    "\n",
    "rcf_inference.content_type = 'text/csv'\n",
    "rcf_inference.serializer = csv_serializer\n",
    "rcf_inference.accept = 'application/json'\n",
    "rcf_inference.deserializer = json_deserializer"
   ]
  },
  {
   "cell_type": "code",
   "execution_count": 131,
   "metadata": {
    "scrolled": true
   },
   "outputs": [
    {
     "name": "stdout",
     "output_type": "stream",
     "text": [
      "[[1.50000000e+01 1.11715390e+05 6.00650000e+04 0.00000000e+00\n",
      "  7.32142803e+06 7.43314342e+06 0.00000000e+00 1.00000000e+00\n",
      "  0.00000000e+00 0.00000000e+00 0.00000000e+00]\n",
      " [2.74000000e+02 1.24571810e+05 0.00000000e+00 0.00000000e+00\n",
      "  4.21130120e+05 5.45701920e+05 0.00000000e+00 1.00000000e+00\n",
      "  0.00000000e+00 0.00000000e+00 0.00000000e+00]\n",
      " [2.38000000e+02 1.19280700e+04 1.04490000e+04 0.00000000e+00\n",
      "  0.00000000e+00 0.00000000e+00 0.00000000e+00 0.00000000e+00\n",
      "  0.00000000e+00 1.00000000e+00 0.00000000e+00]\n",
      " [1.83000000e+02 1.95802830e+05 9.97482838e+06 1.01706312e+07\n",
      "  4.39853790e+05 2.44050960e+05 1.00000000e+00 0.00000000e+00\n",
      "  0.00000000e+00 0.00000000e+00 0.00000000e+00]\n",
      " [4.01000000e+02 8.83495000e+03 3.74290000e+05 3.65455050e+05\n",
      "  0.00000000e+00 0.00000000e+00 0.00000000e+00 0.00000000e+00\n",
      "  0.00000000e+00 1.00000000e+00 0.00000000e+00]\n",
      " [3.79000000e+02 8.52592000e+03 0.00000000e+00 0.00000000e+00\n",
      "  0.00000000e+00 0.00000000e+00 0.00000000e+00 0.00000000e+00\n",
      "  0.00000000e+00 1.00000000e+00 0.00000000e+00]]\n",
      "{'scores': [{'score': 0.8467865492}, {'score': 0.4385103996}, {'score': 0.3384291372}, {'score': 0.9890449129}, {'score': 0.5199916357}, {'score': 0.309867528}]}\n"
     ]
    }
   ],
   "source": [
    "train_data_munged_numpy = train_data_munged.as_matrix()\n",
    "print(train_data_munged_numpy[:6])\n",
    "results = rcf_inference.predict(train_data_munged_numpy[:6])\n",
    "print(results)"
   ]
  },
  {
   "cell_type": "markdown",
   "metadata": {},
   "source": [
    "---\n",
    "## Compute anomaly scores\n",
    "\n",
    "Use batch transform to compute anomaly scores across the data set"
   ]
  },
  {
   "cell_type": "code",
   "execution_count": 132,
   "metadata": {},
   "outputs": [
    {
     "name": "stderr",
     "output_type": "stream",
     "text": [
      "INFO:sagemaker:Creating model with name: randomcutforest-2019-03-07-17-54-29-240\n",
      "INFO:sagemaker:Creating transform job with name: randomcutforest-2019-03-07-18-08-07-960\n"
     ]
    },
    {
     "name": "stdout",
     "output_type": "stream",
     "text": [
      "......................................................!\n"
     ]
    }
   ],
   "source": [
    "import boto3\n",
    "import sagemaker\n",
    "import json\n",
    "\n",
    "validation_munged_data_file = 's3://{}/{}/validation/validation_munged.csv'.format(bucket, prefix)\n",
    "output_location = 's3://{}/{}/output/batch_transform'.format(bucket, prefix)\n",
    "\n",
    "# Initialize the transformer object\n",
    "transformer = rcf.transformer(\n",
    "    instance_type='ml.c4.xlarge',\n",
    "    instance_count=1,\n",
    "    strategy='MultiRecord',\n",
    "    assemble_with='Line',\n",
    "    output_path=output_location\n",
    "    )\n",
    "# Start a transform job\n",
    "transformer.transform(validation_munged_data_file, content_type='text/csv', split_type='Line')\n",
    "# Then wait until the transform job has completed\n",
    "transformer.wait()"
   ]
  },
  {
   "cell_type": "code",
   "execution_count": 133,
   "metadata": {},
   "outputs": [],
   "source": [
    "# Download validation results \n",
    "s3.Bucket(bucket).download_file(prefix + '/output/batch_transform/validation_munged.csv.out', 'validation_munged_out.csv')"
   ]
  },
  {
   "cell_type": "code",
   "execution_count": 134,
   "metadata": {},
   "outputs": [
    {
     "name": "stdout",
     "output_type": "stream",
     "text": [
      "{\"score\":0.513516354}\n",
      "\n"
     ]
    }
   ],
   "source": [
    "with open('validation_munged_out.csv') as f:\n",
    "    results = f.readlines()   \n",
    "print(results[0])"
   ]
  },
  {
   "cell_type": "code",
   "execution_count": 135,
   "metadata": {},
   "outputs": [
    {
     "data": {
      "text/html": [
       "<div>\n",
       "<style scoped>\n",
       "    .dataframe tbody tr th:only-of-type {\n",
       "        vertical-align: middle;\n",
       "    }\n",
       "\n",
       "    .dataframe tbody tr th {\n",
       "        vertical-align: top;\n",
       "    }\n",
       "\n",
       "    .dataframe thead th {\n",
       "        text-align: right;\n",
       "    }\n",
       "</style>\n",
       "<table border=\"1\" class=\"dataframe\">\n",
       "  <thead>\n",
       "    <tr style=\"text-align: right;\">\n",
       "      <th></th>\n",
       "      <th>step</th>\n",
       "      <th>amount</th>\n",
       "      <th>nameOrig</th>\n",
       "      <th>oldbalanceOrg</th>\n",
       "      <th>newbalanceOrig</th>\n",
       "      <th>nameDest</th>\n",
       "      <th>oldbalanceDest</th>\n",
       "      <th>newbalanceDest</th>\n",
       "      <th>isFraud</th>\n",
       "      <th>isFlaggedFraud</th>\n",
       "      <th>binned</th>\n",
       "      <th>type_CASH_IN</th>\n",
       "      <th>type_CASH_OUT</th>\n",
       "      <th>type_DEBIT</th>\n",
       "      <th>type_PAYMENT</th>\n",
       "      <th>type_TRANSFER</th>\n",
       "      <th>score</th>\n",
       "    </tr>\n",
       "  </thead>\n",
       "  <tbody>\n",
       "    <tr>\n",
       "      <th>2445937</th>\n",
       "      <td>203</td>\n",
       "      <td>124388.46</td>\n",
       "      <td>C895641742</td>\n",
       "      <td>3059.0</td>\n",
       "      <td>0.00</td>\n",
       "      <td>C1299188954</td>\n",
       "      <td>1190414.88</td>\n",
       "      <td>1611628.29</td>\n",
       "      <td>0</td>\n",
       "      <td>0</td>\n",
       "      <td>100000</td>\n",
       "      <td>0</td>\n",
       "      <td>1</td>\n",
       "      <td>0</td>\n",
       "      <td>0</td>\n",
       "      <td>0</td>\n",
       "      <td>0.513516</td>\n",
       "    </tr>\n",
       "    <tr>\n",
       "      <th>301450</th>\n",
       "      <td>15</td>\n",
       "      <td>110572.14</td>\n",
       "      <td>C183334974</td>\n",
       "      <td>1522.0</td>\n",
       "      <td>0.00</td>\n",
       "      <td>C2040474808</td>\n",
       "      <td>0.00</td>\n",
       "      <td>110572.14</td>\n",
       "      <td>0</td>\n",
       "      <td>0</td>\n",
       "      <td>100000</td>\n",
       "      <td>0</td>\n",
       "      <td>1</td>\n",
       "      <td>0</td>\n",
       "      <td>0</td>\n",
       "      <td>0</td>\n",
       "      <td>0.410464</td>\n",
       "    </tr>\n",
       "    <tr>\n",
       "      <th>1989547</th>\n",
       "      <td>179</td>\n",
       "      <td>169392.44</td>\n",
       "      <td>C1062740569</td>\n",
       "      <td>0.0</td>\n",
       "      <td>0.00</td>\n",
       "      <td>C1662206385</td>\n",
       "      <td>209127.80</td>\n",
       "      <td>378520.23</td>\n",
       "      <td>0</td>\n",
       "      <td>0</td>\n",
       "      <td>150000</td>\n",
       "      <td>0</td>\n",
       "      <td>1</td>\n",
       "      <td>0</td>\n",
       "      <td>0</td>\n",
       "      <td>0</td>\n",
       "      <td>0.438368</td>\n",
       "    </tr>\n",
       "    <tr>\n",
       "      <th>1909643</th>\n",
       "      <td>166</td>\n",
       "      <td>14315.23</td>\n",
       "      <td>C1971735805</td>\n",
       "      <td>130595.0</td>\n",
       "      <td>116279.77</td>\n",
       "      <td>M1325884062</td>\n",
       "      <td>0.00</td>\n",
       "      <td>0.00</td>\n",
       "      <td>0</td>\n",
       "      <td>0</td>\n",
       "      <td>0</td>\n",
       "      <td>0</td>\n",
       "      <td>0</td>\n",
       "      <td>0</td>\n",
       "      <td>1</td>\n",
       "      <td>0</td>\n",
       "      <td>0.412861</td>\n",
       "    </tr>\n",
       "    <tr>\n",
       "      <th>1786531</th>\n",
       "      <td>162</td>\n",
       "      <td>434957.09</td>\n",
       "      <td>C1058656014</td>\n",
       "      <td>398.0</td>\n",
       "      <td>0.00</td>\n",
       "      <td>C553456018</td>\n",
       "      <td>0.00</td>\n",
       "      <td>434957.09</td>\n",
       "      <td>0</td>\n",
       "      <td>0</td>\n",
       "      <td>400000</td>\n",
       "      <td>0</td>\n",
       "      <td>0</td>\n",
       "      <td>0</td>\n",
       "      <td>0</td>\n",
       "      <td>1</td>\n",
       "      <td>0.508114</td>\n",
       "    </tr>\n",
       "  </tbody>\n",
       "</table>\n",
       "</div>"
      ],
      "text/plain": [
       "         step     amount     nameOrig  oldbalanceOrg  newbalanceOrig  \\\n",
       "2445937   203  124388.46   C895641742         3059.0            0.00   \n",
       "301450     15  110572.14   C183334974         1522.0            0.00   \n",
       "1989547   179  169392.44  C1062740569            0.0            0.00   \n",
       "1909643   166   14315.23  C1971735805       130595.0       116279.77   \n",
       "1786531   162  434957.09  C1058656014          398.0            0.00   \n",
       "\n",
       "            nameDest  oldbalanceDest  newbalanceDest  isFraud  isFlaggedFraud  \\\n",
       "2445937  C1299188954      1190414.88      1611628.29        0               0   \n",
       "301450   C2040474808            0.00       110572.14        0               0   \n",
       "1989547  C1662206385       209127.80       378520.23        0               0   \n",
       "1909643  M1325884062            0.00            0.00        0               0   \n",
       "1786531   C553456018            0.00       434957.09        0               0   \n",
       "\n",
       "         binned  type_CASH_IN  type_CASH_OUT  type_DEBIT  type_PAYMENT  \\\n",
       "2445937  100000             0              1           0             0   \n",
       "301450   100000             0              1           0             0   \n",
       "1989547  150000             0              1           0             0   \n",
       "1909643       0             0              0           0             1   \n",
       "1786531  400000             0              0           0             0   \n",
       "\n",
       "         type_TRANSFER     score  \n",
       "2445937              0  0.513516  \n",
       "301450               0  0.410464  \n",
       "1989547              0  0.438368  \n",
       "1909643              0  0.412861  \n",
       "1786531              1  0.508114  "
      ]
     },
     "execution_count": 135,
     "metadata": {},
     "output_type": "execute_result"
    }
   ],
   "source": [
    "scores = [json.loads(datum)['score'] for datum in results]\n",
    "\n",
    "#add scores to validation data frame and print first few values\n",
    "#m = np.asarray(scores)\n",
    "validation_data['score'] = scores\n",
    "validation_data.head()"
   ]
  },
  {
   "cell_type": "code",
   "execution_count": 137,
   "metadata": {},
   "outputs": [
    {
     "data": {
      "image/png": "[encoded data removed]",
      "text/plain": [
       "<Figure size 1440x720 with 1 Axes>"
      ]
     },
     "metadata": {},
     "output_type": "display_data"
    }
   ],
   "source": [
    "import matplotlib.pyplot as plt\n",
    "\n",
    "plt.figure(figsize=(20,10))\n",
    "scores_bins = [0,1,2,3,4,5,6,7,8,9,10]\n",
    "arr = plt.hist(scores, scores_bins)\n",
    "for i in scores_bins:\n",
    "    if i < len(scores_bins) - 1:\n",
    "        plt.text(arr[1][i],arr[0][i],str(arr[0][i]))\n",
    "\n",
    "\n",
    "\n"
   ]
  },
  {
   "cell_type": "code",
   "execution_count": 144,
   "metadata": {},
   "outputs": [
    {
     "data": {
      "image/png": "[encoded data removed]",
      "text/plain": [
       "<Figure size 432x288 with 1 Axes>"
      ]
     },
     "metadata": {},
     "output_type": "display_data"
    }
   ],
   "source": [
    "fraud_df = validation_data.loc[validation_data['isFraud'] == 1]\n",
    "\n",
    "arr = plt.hist(fraud_df['score'], scores_bins)\n",
    "\n",
    "for i in scores_bins:\n",
    "    if i < len(scores_bins) - 1:\n",
    "        plt.text(arr[1][i],arr[0][i],str(arr[0][i]))\n"
   ]
  },
  {
   "cell_type": "code",
   "execution_count": null,
   "metadata": {},
   "outputs": [],
   "source": []
  }
 ],
 "metadata": {
  "kernelspec": {
   "display_name": "conda_python3",
   "language": "python",
   "name": "conda_python3"
  },
  "language_info": {
   "codemirror_mode": {
    "name": "ipython",
    "version": 3
   },
   "file_extension": ".py",
   "mimetype": "text/x-python",
   "name": "python",
   "nbconvert_exporter": "python",
   "pygments_lexer": "ipython3",
   "version": "3.6.5"
  }
 },
 "nbformat": 4,
 "nbformat_minor": 2
}
